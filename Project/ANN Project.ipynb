{
 "metadata": {
  "language_info": {
   "codemirror_mode": {
    "name": "ipython",
    "version": 3
   },
   "file_extension": ".py",
   "mimetype": "text/x-python",
   "name": "python",
   "nbconvert_exporter": "python",
   "pygments_lexer": "ipython3",
   "version": "3.8.5-final"
  },
  "orig_nbformat": 2,
  "kernelspec": {
   "name": "python385jvsc74a57bd082513f59c0d28b90688d7f7275c84cb59de2ed646ae9bf0e80c508bb5b68947e",
   "display_name": "Python 3.8.5 64-bit (conda)"
  }
 },
 "nbformat": 4,
 "nbformat_minor": 2,
 "cells": [
  {
   "cell_type": "code",
   "execution_count": 51,
   "metadata": {},
   "outputs": [],
   "source": [
    "import pandas as pd\n",
    "import numpy as np\n",
    "import matplotlib.pyplot as plt\n",
    "import seaborn as sns"
   ]
  },
  {
   "cell_type": "code",
   "execution_count": 2,
   "metadata": {},
   "outputs": [],
   "source": [
    "import torch\n",
    "import torch.nn as nn"
   ]
  },
  {
   "source": [
    "## 1. Import dataset and perform analysing"
   ],
   "cell_type": "markdown",
   "metadata": {}
  },
  {
   "cell_type": "code",
   "execution_count": 3,
   "metadata": {},
   "outputs": [],
   "source": [
    "df = pd.read_csv('../Datasets/income.csv')"
   ]
  },
  {
   "cell_type": "code",
   "execution_count": 4,
   "metadata": {},
   "outputs": [
    {
     "output_type": "execute_result",
     "data": {
      "text/plain": [
       "   age     sex    education  education-num marital-status    workclass  \\\n",
       "0   27    Male      HS-grad              9  Never-married      Private   \n",
       "1   47    Male      Masters             14        Married    Local-gov   \n",
       "2   59    Male      HS-grad              9       Divorced     Self-emp   \n",
       "3   38  Female  Prof-school             15  Never-married  Federal-gov   \n",
       "4   64  Female         11th              7        Widowed      Private   \n",
       "\n",
       "        occupation  hours-per-week income  label  \n",
       "0     Craft-repair              40  <=50K      0  \n",
       "1  Exec-managerial              50   >50K      1  \n",
       "2   Prof-specialty              20  <=50K      0  \n",
       "3   Prof-specialty              57   >50K      1  \n",
       "4  Farming-fishing              40  <=50K      0  "
      ],
      "text/html": "<div>\n<style scoped>\n    .dataframe tbody tr th:only-of-type {\n        vertical-align: middle;\n    }\n\n    .dataframe tbody tr th {\n        vertical-align: top;\n    }\n\n    .dataframe thead th {\n        text-align: right;\n    }\n</style>\n<table border=\"1\" class=\"dataframe\">\n  <thead>\n    <tr style=\"text-align: right;\">\n      <th></th>\n      <th>age</th>\n      <th>sex</th>\n      <th>education</th>\n      <th>education-num</th>\n      <th>marital-status</th>\n      <th>workclass</th>\n      <th>occupation</th>\n      <th>hours-per-week</th>\n      <th>income</th>\n      <th>label</th>\n    </tr>\n  </thead>\n  <tbody>\n    <tr>\n      <th>0</th>\n      <td>27</td>\n      <td>Male</td>\n      <td>HS-grad</td>\n      <td>9</td>\n      <td>Never-married</td>\n      <td>Private</td>\n      <td>Craft-repair</td>\n      <td>40</td>\n      <td>&lt;=50K</td>\n      <td>0</td>\n    </tr>\n    <tr>\n      <th>1</th>\n      <td>47</td>\n      <td>Male</td>\n      <td>Masters</td>\n      <td>14</td>\n      <td>Married</td>\n      <td>Local-gov</td>\n      <td>Exec-managerial</td>\n      <td>50</td>\n      <td>&gt;50K</td>\n      <td>1</td>\n    </tr>\n    <tr>\n      <th>2</th>\n      <td>59</td>\n      <td>Male</td>\n      <td>HS-grad</td>\n      <td>9</td>\n      <td>Divorced</td>\n      <td>Self-emp</td>\n      <td>Prof-specialty</td>\n      <td>20</td>\n      <td>&lt;=50K</td>\n      <td>0</td>\n    </tr>\n    <tr>\n      <th>3</th>\n      <td>38</td>\n      <td>Female</td>\n      <td>Prof-school</td>\n      <td>15</td>\n      <td>Never-married</td>\n      <td>Federal-gov</td>\n      <td>Prof-specialty</td>\n      <td>57</td>\n      <td>&gt;50K</td>\n      <td>1</td>\n    </tr>\n    <tr>\n      <th>4</th>\n      <td>64</td>\n      <td>Female</td>\n      <td>11th</td>\n      <td>7</td>\n      <td>Widowed</td>\n      <td>Private</td>\n      <td>Farming-fishing</td>\n      <td>40</td>\n      <td>&lt;=50K</td>\n      <td>0</td>\n    </tr>\n  </tbody>\n</table>\n</div>"
     },
     "metadata": {},
     "execution_count": 4
    }
   ],
   "source": [
    "df.head()"
   ]
  },
  {
   "cell_type": "code",
   "execution_count": 5,
   "metadata": {},
   "outputs": [
    {
     "output_type": "stream",
     "name": "stdout",
     "text": [
      "<class 'pandas.core.frame.DataFrame'>\nRangeIndex: 30000 entries, 0 to 29999\nData columns (total 10 columns):\n #   Column          Non-Null Count  Dtype \n---  ------          --------------  ----- \n 0   age             30000 non-null  int64 \n 1   sex             30000 non-null  object\n 2   education       30000 non-null  object\n 3   education-num   30000 non-null  int64 \n 4   marital-status  30000 non-null  object\n 5   workclass       30000 non-null  object\n 6   occupation      30000 non-null  object\n 7   hours-per-week  30000 non-null  int64 \n 8   income          30000 non-null  object\n 9   label           30000 non-null  int64 \ndtypes: int64(4), object(6)\nmemory usage: 2.3+ MB\n"
     ]
    }
   ],
   "source": [
    "df.info()"
   ]
  },
  {
   "cell_type": "code",
   "execution_count": 6,
   "metadata": {},
   "outputs": [
    {
     "output_type": "execute_result",
     "data": {
      "text/plain": [
       "0    21700\n",
       "1     8300\n",
       "Name: label, dtype: int64"
      ]
     },
     "metadata": {},
     "execution_count": 6
    }
   ],
   "source": [
    "df['label'].value_counts()"
   ]
  },
  {
   "source": [
    "## 2. Separate cat and con columns"
   ],
   "cell_type": "markdown",
   "metadata": {}
  },
  {
   "cell_type": "code",
   "execution_count": 34,
   "metadata": {},
   "outputs": [
    {
     "output_type": "execute_result",
     "data": {
      "text/plain": [
       "tensor([[ 1,  6,  3,  2,  1],\n",
       "        [ 1, 11,  1,  1,  2],\n",
       "        [ 1,  6,  0,  3,  7],\n",
       "        [ 0, 12,  3,  0,  7],\n",
       "        [ 0,  4,  5,  2,  3]], dtype=torch.int32)"
      ]
     },
     "metadata": {},
     "execution_count": 34
    }
   ],
   "source": [
    "cat_cols = ['sex', 'education-num', 'marital-status', 'workclass', 'occupation']\n",
    "\n",
    "cats = np.stack([df[col].astype(\"category\").cat.codes.values for col in cat_cols], 1)\n",
    "\n",
    "cats = torch.tensor(cats, dtype=torch.int32)\n",
    "\n",
    "cats[:5]"
   ]
  },
  {
   "cell_type": "code",
   "execution_count": 35,
   "metadata": {},
   "outputs": [
    {
     "output_type": "execute_result",
     "data": {
      "text/plain": [
       "tensor([[27., 40.],\n",
       "        [47., 50.],\n",
       "        [59., 20.],\n",
       "        [38., 57.],\n",
       "        [64., 40.]])"
      ]
     },
     "metadata": {},
     "execution_count": 35
    }
   ],
   "source": [
    "cont_cols = ['age', 'hours-per-week']\n",
    "conts = np.stack([df[col] for col in cont_cols], 1)\n",
    "conts = torch.tensor(conts, dtype=torch.float32)\n",
    "conts[:5]"
   ]
  },
  {
   "cell_type": "code",
   "execution_count": 9,
   "metadata": {},
   "outputs": [
    {
     "output_type": "execute_result",
     "data": {
      "text/plain": [
       "tensor([0, 1, 0, 1, 0])"
      ]
     },
     "metadata": {},
     "execution_count": 9
    }
   ],
   "source": [
    "y = df['label'].values\n",
    "y = torch.tensor(y).flatten()\n",
    "y[:5]"
   ]
  },
  {
   "cell_type": "code",
   "execution_count": 10,
   "metadata": {},
   "outputs": [
    {
     "output_type": "execute_result",
     "data": {
      "text/plain": [
       "2"
      ]
     },
     "metadata": {},
     "execution_count": 10
    }
   ],
   "source": [
    "len(df['sex'].astype(\"category\").values.categories)"
   ]
  },
  {
   "source": [
    "## 3. Set embedding size"
   ],
   "cell_type": "markdown",
   "metadata": {}
  },
  {
   "cell_type": "code",
   "execution_count": 11,
   "metadata": {},
   "outputs": [
    {
     "output_type": "execute_result",
     "data": {
      "text/plain": [
       "[(2, 1), (14, 7), (6, 3), (5, 3), (12, 6)]"
      ]
     },
     "metadata": {},
     "execution_count": 11
    }
   ],
   "source": [
    "cat_sz = [len(df[col].astype(\"category\").values.categories) for col in cat_cols]\n",
    "\n",
    "emb_sz = [(sz, min((sz + 1) // 2, 50)) for sz in cat_sz]\n",
    "emb_sz"
   ]
  },
  {
   "source": [
    "## 4. Create train/test sets from cats, conts and y"
   ],
   "cell_type": "markdown",
   "metadata": {}
  },
  {
   "cell_type": "code",
   "execution_count": 36,
   "metadata": {},
   "outputs": [],
   "source": [
    "b_sz = 30000\n",
    "t_sz = 5000\n",
    "\n",
    "cat_tr = cats[:b_sz-t_sz]\n",
    "cat_te = cats[b_sz-t_sz:b_sz]\n",
    "cont_tr = conts[:b_sz-t_sz]\n",
    "cont_te = conts[b_sz-t_sz:b_sz]\n",
    "\n",
    "y_tr = y[:b_sz - t_sz]\n",
    "y_te = y[b_sz - t_sz:b_sz]"
   ]
  },
  {
   "cell_type": "code",
   "execution_count": 37,
   "metadata": {},
   "outputs": [
    {
     "output_type": "execute_result",
     "data": {
      "text/plain": [
       "torch.int32"
      ]
     },
     "metadata": {},
     "execution_count": 37
    }
   ],
   "source": [
    "cat_tr.dtype"
   ]
  },
  {
   "source": [
    "## 5. Define the model class"
   ],
   "cell_type": "markdown",
   "metadata": {}
  },
  {
   "cell_type": "code",
   "execution_count": 13,
   "metadata": {},
   "outputs": [
    {
     "output_type": "execute_result",
     "data": {
      "text/plain": [
       "ModuleList(\n",
       "  (0): Embedding(2, 1)\n",
       "  (1): Embedding(14, 7)\n",
       "  (2): Embedding(6, 3)\n",
       "  (3): Embedding(5, 3)\n",
       "  (4): Embedding(12, 6)\n",
       ")"
      ]
     },
     "metadata": {},
     "execution_count": 13
    }
   ],
   "source": [
    "embeds = nn.ModuleList([nn.Embedding(ni, nf) for ni, nf in emb_sz])\n",
    "embeds"
   ]
  },
  {
   "cell_type": "code",
   "execution_count": 38,
   "metadata": {},
   "outputs": [],
   "source": [
    "class TabularModel(nn.Module):\n",
    "    def __init__(self, emb_sz, n_cont, out_sz, layers, p=0.5):\n",
    "        super().__init__()\n",
    "        self.embeds = nn.ModuleList([nn.Embedding(ni, nf) for ni, nf in emb_sz])\n",
    "        self.emb_drop = nn.Dropout(p)\n",
    "        self.bn_cont = nn.BatchNorm1d(n_cont)\n",
    "\n",
    "        layerlist = []\n",
    "\n",
    "        n_emb = sum([nf for ni, nf in emb_sz])\n",
    "        n_in = n_emb + n_cont\n",
    "\n",
    "        for i in layers:\n",
    "            layerlist.append(nn.Linear(n_in, i))\n",
    "            layerlist.append(nn.ReLU(inplace=True))\n",
    "            layerlist.append(nn.BatchNorm1d\n",
    "            (i))\n",
    "            layerlist.append(nn.Dropout(p))\n",
    "        \n",
    "        layerlist.append(nn.Linear(layers[-1], out_sz))\n",
    "\n",
    "        self.layers = nn.Sequential(*layerlist)\n",
    "\n",
    "    def forward(self, x_cat, x_cont):\n",
    "        # Extract embedding values from the incoming categorical data\n",
    "        embeddings = []\n",
    "        for i,e in enumerate(self.embeds):\n",
    "            embeddings.append(e(x_cat[:,i])) # column wise mapping of categorical variables onto list of tensor embeddings\n",
    "        x = torch.cat(embeddings, 1)\n",
    "        # Perform an initial dropout on the embeddings\n",
    "        x = self.emb_drop(x)\n",
    "        \n",
    "        # Normalize the incoming continuous data\n",
    "        x_cont = self.bn_cont(x_cont)\n",
    "        x = torch.cat([x, x_cont], 1)\n",
    "        \n",
    "        # Set up model layers\n",
    "        x = self.layers(x)\n",
    "        return x"
   ]
  },
  {
   "cell_type": "code",
   "execution_count": 24,
   "metadata": {},
   "outputs": [
    {
     "output_type": "execute_result",
     "data": {
      "text/plain": [
       "TabularModel(\n",
       "  (embeds): ModuleList(\n",
       "    (0): Embedding(2, 1)\n",
       "    (1): Embedding(14, 7)\n",
       "    (2): Embedding(6, 3)\n",
       "    (3): Embedding(5, 3)\n",
       "    (4): Embedding(12, 6)\n",
       "  )\n",
       "  (emb_drop): Dropout(p=0.4, inplace=False)\n",
       "  (bn_cont): BatchNorm1d(2, eps=1e-05, momentum=0.1, affine=True, track_running_stats=True)\n",
       "  (layers): Sequential(\n",
       "    (0): Linear(in_features=22, out_features=50, bias=True)\n",
       "    (1): ReLU(inplace=True)\n",
       "    (2): BatchNorm1d(50, eps=1e-05, momentum=0.1, affine=True, track_running_stats=True)\n",
       "    (3): Dropout(p=0.4, inplace=False)\n",
       "    (4): Linear(in_features=50, out_features=2, bias=True)\n",
       "  )\n",
       ")"
      ]
     },
     "metadata": {},
     "execution_count": 24
    }
   ],
   "source": [
    "torch.manual_seed(33)\n",
    "model = TabularModel(emb_sz, conts.shape[1], 2, [50], p=.4)\n",
    "model"
   ]
  },
  {
   "source": [
    "## 6. Define the loss and activation functions"
   ],
   "cell_type": "markdown",
   "metadata": {}
  },
  {
   "cell_type": "code",
   "execution_count": 25,
   "metadata": {},
   "outputs": [],
   "source": [
    "criterion = nn.CrossEntropyLoss()\n",
    "optimizer = torch.optim.Adam(model.parameters(), lr=0.01)"
   ]
  },
  {
   "source": [
    "## 7. Train the model"
   ],
   "cell_type": "markdown",
   "metadata": {}
  },
  {
   "cell_type": "code",
   "execution_count": 43,
   "metadata": {},
   "outputs": [
    {
     "output_type": "stream",
     "name": "stdout",
     "text": [
      "epoch: 10   |   loss:     0.47\n",
      "epoch: 20   |   loss:     0.37\n",
      "epoch: 30   |   loss:     0.33\n",
      "epoch: 40   |   loss:     0.32\n",
      "epoch: 50   |   loss:     0.30\n",
      "epoch: 60   |   loss:     0.30\n",
      "epoch: 70   |   loss:     0.29\n",
      "epoch: 80   |   loss:     0.29\n",
      "epoch: 90   |   loss:     0.29\n",
      "epoch: 100   |   loss:     0.28\n",
      "epoch: 110   |   loss:     0.28\n",
      "epoch: 120   |   loss:     0.28\n",
      "epoch: 130   |   loss:     0.28\n",
      "epoch: 140   |   loss:     0.28\n",
      "epoch: 150   |   loss:     0.28\n",
      "epoch: 160   |   loss:     0.28\n",
      "epoch: 170   |   loss:     0.27\n",
      "epoch: 180   |   loss:     0.28\n",
      "epoch: 190   |   loss:     0.27\n",
      "epoch: 200   |   loss:     0.27\n",
      "epoch: 210   |   loss:     0.27\n",
      "epoch: 220   |   loss:     0.27\n",
      "epoch: 230   |   loss:     0.27\n",
      "epoch: 240   |   loss:     0.27\n",
      "epoch: 250   |   loss:     0.27\n",
      "epoch: 260   |   loss:     0.27\n",
      "epoch: 270   |   loss:     0.27\n",
      "epoch: 280   |   loss:     0.27\n",
      "epoch: 290   |   loss:     0.27\n",
      "epoch: 300   |   loss:     0.27\n"
     ]
    }
   ],
   "source": [
    "epochs = 300\n",
    "\n",
    "losses = []\n",
    "\n",
    "for i in range(epochs):\n",
    "    i += 1\n",
    "    y_pred = model(cat_tr, cont_tr)\n",
    "    loss = criterion(y_pred, y_tr)\n",
    "    losses.append(loss)\n",
    "\n",
    "    if i % 10 == 0:\n",
    "        print(f'epoch: {i}   |   loss: {loss:8.2f}')\n",
    "\n",
    "    optimizer.zero_grad()\n",
    "    loss.backward()\n",
    "    optimizer.step()"
   ]
  },
  {
   "cell_type": "code",
   "execution_count": 53,
   "metadata": {},
   "outputs": [
    {
     "output_type": "execute_result",
     "data": {
      "text/plain": [
       "[<matplotlib.lines.Line2D at 0x24d069d3760>]"
      ]
     },
     "metadata": {},
     "execution_count": 53
    },
    {
     "output_type": "display_data",
     "data": {
      "text/plain": "<Figure size 720x504 with 1 Axes>",
      "image/svg+xml": "<?xml version=\"1.0\" encoding=\"utf-8\" standalone=\"no\"?>\r\n<!DOCTYPE svg PUBLIC \"-//W3C//DTD SVG 1.1//EN\"\r\n  \"http://www.w3.org/Graphics/SVG/1.1/DTD/svg11.dtd\">\r\n<!-- Created with matplotlib (https://matplotlib.org/) -->\r\n<svg height=\"411.598125pt\" version=\"1.1\" viewBox=\"0 0 595.303125 411.598125\" width=\"595.303125pt\" xmlns=\"http://www.w3.org/2000/svg\" xmlns:xlink=\"http://www.w3.org/1999/xlink\">\r\n <metadata>\r\n  <rdf:RDF xmlns:cc=\"http://creativecommons.org/ns#\" xmlns:dc=\"http://purl.org/dc/elements/1.1/\" xmlns:rdf=\"http://www.w3.org/1999/02/22-rdf-syntax-ns#\">\r\n   <cc:Work>\r\n    <dc:type rdf:resource=\"http://purl.org/dc/dcmitype/StillImage\"/>\r\n    <dc:date>2021-04-07T08:44:52.252968</dc:date>\r\n    <dc:format>image/svg+xml</dc:format>\r\n    <dc:creator>\r\n     <cc:Agent>\r\n      <dc:title>Matplotlib v3.3.2, https://matplotlib.org/</dc:title>\r\n     </cc:Agent>\r\n    </dc:creator>\r\n   </cc:Work>\r\n  </rdf:RDF>\r\n </metadata>\r\n <defs>\r\n  <style type=\"text/css\">*{stroke-linecap:butt;stroke-linejoin:round;}</style>\r\n </defs>\r\n <g id=\"figure_1\">\r\n  <g id=\"patch_1\">\r\n   <path d=\"M -0 411.598125 \r\nL 595.303125 411.598125 \r\nL 595.303125 0 \r\nL -0 0 \r\nz\r\n\" style=\"fill:none;\"/>\r\n  </g>\r\n  <g id=\"axes_1\">\r\n   <g id=\"patch_2\">\r\n    <path d=\"M 30.103125 387.72 \r\nL 588.103125 387.72 \r\nL 588.103125 7.2 \r\nL 30.103125 7.2 \r\nz\r\n\" style=\"fill:#ffffff;\"/>\r\n   </g>\r\n   <g id=\"matplotlib.axis_1\">\r\n    <g id=\"xtick_1\">\r\n     <g id=\"line2d_1\">\r\n      <defs>\r\n       <path d=\"M 0 0 \r\nL 0 3.5 \r\n\" id=\"m782a49d703\" style=\"stroke:#000000;stroke-width:0.8;\"/>\r\n      </defs>\r\n      <g>\r\n       <use style=\"stroke:#000000;stroke-width:0.8;\" x=\"55.466761\" xlink:href=\"#m782a49d703\" y=\"387.72\"/>\r\n      </g>\r\n     </g>\r\n     <g id=\"text_1\">\r\n      <!-- 0 -->\r\n      <g transform=\"translate(52.285511 402.318437)scale(0.1 -0.1)\">\r\n       <defs>\r\n        <path d=\"M 31.78125 66.40625 \r\nQ 24.171875 66.40625 20.328125 58.90625 \r\nQ 16.5 51.421875 16.5 36.375 \r\nQ 16.5 21.390625 20.328125 13.890625 \r\nQ 24.171875 6.390625 31.78125 6.390625 \r\nQ 39.453125 6.390625 43.28125 13.890625 \r\nQ 47.125 21.390625 47.125 36.375 \r\nQ 47.125 51.421875 43.28125 58.90625 \r\nQ 39.453125 66.40625 31.78125 66.40625 \r\nz\r\nM 31.78125 74.21875 \r\nQ 44.046875 74.21875 50.515625 64.515625 \r\nQ 56.984375 54.828125 56.984375 36.375 \r\nQ 56.984375 17.96875 50.515625 8.265625 \r\nQ 44.046875 -1.421875 31.78125 -1.421875 \r\nQ 19.53125 -1.421875 13.0625 8.265625 \r\nQ 6.59375 17.96875 6.59375 36.375 \r\nQ 6.59375 54.828125 13.0625 64.515625 \r\nQ 19.53125 74.21875 31.78125 74.21875 \r\nz\r\n\" id=\"DejaVuSans-48\"/>\r\n       </defs>\r\n       <use xlink:href=\"#DejaVuSans-48\"/>\r\n      </g>\r\n     </g>\r\n    </g>\r\n    <g id=\"xtick_2\">\r\n     <g id=\"line2d_2\">\r\n      <g>\r\n       <use style=\"stroke:#000000;stroke-width:0.8;\" x=\"140.294977\" xlink:href=\"#m782a49d703\" y=\"387.72\"/>\r\n      </g>\r\n     </g>\r\n     <g id=\"text_2\">\r\n      <!-- 50 -->\r\n      <g transform=\"translate(133.932477 402.318437)scale(0.1 -0.1)\">\r\n       <defs>\r\n        <path d=\"M 10.796875 72.90625 \r\nL 49.515625 72.90625 \r\nL 49.515625 64.59375 \r\nL 19.828125 64.59375 \r\nL 19.828125 46.734375 \r\nQ 21.96875 47.46875 24.109375 47.828125 \r\nQ 26.265625 48.1875 28.421875 48.1875 \r\nQ 40.625 48.1875 47.75 41.5 \r\nQ 54.890625 34.8125 54.890625 23.390625 \r\nQ 54.890625 11.625 47.5625 5.09375 \r\nQ 40.234375 -1.421875 26.90625 -1.421875 \r\nQ 22.3125 -1.421875 17.546875 -0.640625 \r\nQ 12.796875 0.140625 7.71875 1.703125 \r\nL 7.71875 11.625 \r\nQ 12.109375 9.234375 16.796875 8.0625 \r\nQ 21.484375 6.890625 26.703125 6.890625 \r\nQ 35.15625 6.890625 40.078125 11.328125 \r\nQ 45.015625 15.765625 45.015625 23.390625 \r\nQ 45.015625 31 40.078125 35.4375 \r\nQ 35.15625 39.890625 26.703125 39.890625 \r\nQ 22.75 39.890625 18.8125 39.015625 \r\nQ 14.890625 38.140625 10.796875 36.28125 \r\nz\r\n\" id=\"DejaVuSans-53\"/>\r\n       </defs>\r\n       <use xlink:href=\"#DejaVuSans-53\"/>\r\n       <use x=\"63.623047\" xlink:href=\"#DejaVuSans-48\"/>\r\n      </g>\r\n     </g>\r\n    </g>\r\n    <g id=\"xtick_3\">\r\n     <g id=\"line2d_3\">\r\n      <g>\r\n       <use style=\"stroke:#000000;stroke-width:0.8;\" x=\"225.123192\" xlink:href=\"#m782a49d703\" y=\"387.72\"/>\r\n      </g>\r\n     </g>\r\n     <g id=\"text_3\">\r\n      <!-- 100 -->\r\n      <g transform=\"translate(215.579442 402.318437)scale(0.1 -0.1)\">\r\n       <defs>\r\n        <path d=\"M 12.40625 8.296875 \r\nL 28.515625 8.296875 \r\nL 28.515625 63.921875 \r\nL 10.984375 60.40625 \r\nL 10.984375 69.390625 \r\nL 28.421875 72.90625 \r\nL 38.28125 72.90625 \r\nL 38.28125 8.296875 \r\nL 54.390625 8.296875 \r\nL 54.390625 0 \r\nL 12.40625 0 \r\nz\r\n\" id=\"DejaVuSans-49\"/>\r\n       </defs>\r\n       <use xlink:href=\"#DejaVuSans-49\"/>\r\n       <use x=\"63.623047\" xlink:href=\"#DejaVuSans-48\"/>\r\n       <use x=\"127.246094\" xlink:href=\"#DejaVuSans-48\"/>\r\n      </g>\r\n     </g>\r\n    </g>\r\n    <g id=\"xtick_4\">\r\n     <g id=\"line2d_4\">\r\n      <g>\r\n       <use style=\"stroke:#000000;stroke-width:0.8;\" x=\"309.951407\" xlink:href=\"#m782a49d703\" y=\"387.72\"/>\r\n      </g>\r\n     </g>\r\n     <g id=\"text_4\">\r\n      <!-- 150 -->\r\n      <g transform=\"translate(300.407657 402.318437)scale(0.1 -0.1)\">\r\n       <use xlink:href=\"#DejaVuSans-49\"/>\r\n       <use x=\"63.623047\" xlink:href=\"#DejaVuSans-53\"/>\r\n       <use x=\"127.246094\" xlink:href=\"#DejaVuSans-48\"/>\r\n      </g>\r\n     </g>\r\n    </g>\r\n    <g id=\"xtick_5\">\r\n     <g id=\"line2d_5\">\r\n      <g>\r\n       <use style=\"stroke:#000000;stroke-width:0.8;\" x=\"394.779622\" xlink:href=\"#m782a49d703\" y=\"387.72\"/>\r\n      </g>\r\n     </g>\r\n     <g id=\"text_5\">\r\n      <!-- 200 -->\r\n      <g transform=\"translate(385.235872 402.318437)scale(0.1 -0.1)\">\r\n       <defs>\r\n        <path d=\"M 19.1875 8.296875 \r\nL 53.609375 8.296875 \r\nL 53.609375 0 \r\nL 7.328125 0 \r\nL 7.328125 8.296875 \r\nQ 12.9375 14.109375 22.625 23.890625 \r\nQ 32.328125 33.6875 34.8125 36.53125 \r\nQ 39.546875 41.84375 41.421875 45.53125 \r\nQ 43.3125 49.21875 43.3125 52.78125 \r\nQ 43.3125 58.59375 39.234375 62.25 \r\nQ 35.15625 65.921875 28.609375 65.921875 \r\nQ 23.96875 65.921875 18.8125 64.3125 \r\nQ 13.671875 62.703125 7.8125 59.421875 \r\nL 7.8125 69.390625 \r\nQ 13.765625 71.78125 18.9375 73 \r\nQ 24.125 74.21875 28.421875 74.21875 \r\nQ 39.75 74.21875 46.484375 68.546875 \r\nQ 53.21875 62.890625 53.21875 53.421875 \r\nQ 53.21875 48.921875 51.53125 44.890625 \r\nQ 49.859375 40.875 45.40625 35.40625 \r\nQ 44.1875 33.984375 37.640625 27.21875 \r\nQ 31.109375 20.453125 19.1875 8.296875 \r\nz\r\n\" id=\"DejaVuSans-50\"/>\r\n       </defs>\r\n       <use xlink:href=\"#DejaVuSans-50\"/>\r\n       <use x=\"63.623047\" xlink:href=\"#DejaVuSans-48\"/>\r\n       <use x=\"127.246094\" xlink:href=\"#DejaVuSans-48\"/>\r\n      </g>\r\n     </g>\r\n    </g>\r\n    <g id=\"xtick_6\">\r\n     <g id=\"line2d_6\">\r\n      <g>\r\n       <use style=\"stroke:#000000;stroke-width:0.8;\" x=\"479.607838\" xlink:href=\"#m782a49d703\" y=\"387.72\"/>\r\n      </g>\r\n     </g>\r\n     <g id=\"text_6\">\r\n      <!-- 250 -->\r\n      <g transform=\"translate(470.064088 402.318437)scale(0.1 -0.1)\">\r\n       <use xlink:href=\"#DejaVuSans-50\"/>\r\n       <use x=\"63.623047\" xlink:href=\"#DejaVuSans-53\"/>\r\n       <use x=\"127.246094\" xlink:href=\"#DejaVuSans-48\"/>\r\n      </g>\r\n     </g>\r\n    </g>\r\n    <g id=\"xtick_7\">\r\n     <g id=\"line2d_7\">\r\n      <g>\r\n       <use style=\"stroke:#000000;stroke-width:0.8;\" x=\"564.436053\" xlink:href=\"#m782a49d703\" y=\"387.72\"/>\r\n      </g>\r\n     </g>\r\n     <g id=\"text_7\">\r\n      <!-- 300 -->\r\n      <g transform=\"translate(554.892303 402.318437)scale(0.1 -0.1)\">\r\n       <defs>\r\n        <path d=\"M 40.578125 39.3125 \r\nQ 47.65625 37.796875 51.625 33 \r\nQ 55.609375 28.21875 55.609375 21.1875 \r\nQ 55.609375 10.40625 48.1875 4.484375 \r\nQ 40.765625 -1.421875 27.09375 -1.421875 \r\nQ 22.515625 -1.421875 17.65625 -0.515625 \r\nQ 12.796875 0.390625 7.625 2.203125 \r\nL 7.625 11.71875 \r\nQ 11.71875 9.328125 16.59375 8.109375 \r\nQ 21.484375 6.890625 26.8125 6.890625 \r\nQ 36.078125 6.890625 40.9375 10.546875 \r\nQ 45.796875 14.203125 45.796875 21.1875 \r\nQ 45.796875 27.640625 41.28125 31.265625 \r\nQ 36.765625 34.90625 28.71875 34.90625 \r\nL 20.21875 34.90625 \r\nL 20.21875 43.015625 \r\nL 29.109375 43.015625 \r\nQ 36.375 43.015625 40.234375 45.921875 \r\nQ 44.09375 48.828125 44.09375 54.296875 \r\nQ 44.09375 59.90625 40.109375 62.90625 \r\nQ 36.140625 65.921875 28.71875 65.921875 \r\nQ 24.65625 65.921875 20.015625 65.03125 \r\nQ 15.375 64.15625 9.8125 62.3125 \r\nL 9.8125 71.09375 \r\nQ 15.4375 72.65625 20.34375 73.4375 \r\nQ 25.25 74.21875 29.59375 74.21875 \r\nQ 40.828125 74.21875 47.359375 69.109375 \r\nQ 53.90625 64.015625 53.90625 55.328125 \r\nQ 53.90625 49.265625 50.4375 45.09375 \r\nQ 46.96875 40.921875 40.578125 39.3125 \r\nz\r\n\" id=\"DejaVuSans-51\"/>\r\n       </defs>\r\n       <use xlink:href=\"#DejaVuSans-51\"/>\r\n       <use x=\"63.623047\" xlink:href=\"#DejaVuSans-48\"/>\r\n       <use x=\"127.246094\" xlink:href=\"#DejaVuSans-48\"/>\r\n      </g>\r\n     </g>\r\n    </g>\r\n   </g>\r\n   <g id=\"matplotlib.axis_2\">\r\n    <g id=\"ytick_1\">\r\n     <g id=\"line2d_8\">\r\n      <defs>\r\n       <path d=\"M 0 0 \r\nL -3.5 0 \r\n\" id=\"md7f1a401ad\" style=\"stroke:#000000;stroke-width:0.8;\"/>\r\n      </defs>\r\n      <g>\r\n       <use style=\"stroke:#000000;stroke-width:0.8;\" x=\"30.103125\" xlink:href=\"#md7f1a401ad\" y=\"350.395669\"/>\r\n      </g>\r\n     </g>\r\n     <g id=\"text_8\">\r\n      <!-- 0.3 -->\r\n      <g transform=\"translate(7.2 354.194888)scale(0.1 -0.1)\">\r\n       <defs>\r\n        <path d=\"M 10.6875 12.40625 \r\nL 21 12.40625 \r\nL 21 0 \r\nL 10.6875 0 \r\nz\r\n\" id=\"DejaVuSans-46\"/>\r\n       </defs>\r\n       <use xlink:href=\"#DejaVuSans-48\"/>\r\n       <use x=\"63.623047\" xlink:href=\"#DejaVuSans-46\"/>\r\n       <use x=\"95.410156\" xlink:href=\"#DejaVuSans-51\"/>\r\n      </g>\r\n     </g>\r\n    </g>\r\n    <g id=\"ytick_2\">\r\n     <g id=\"line2d_9\">\r\n      <g>\r\n       <use style=\"stroke:#000000;stroke-width:0.8;\" x=\"30.103125\" xlink:href=\"#md7f1a401ad\" y=\"291.396222\"/>\r\n      </g>\r\n     </g>\r\n     <g id=\"text_9\">\r\n      <!-- 0.4 -->\r\n      <g transform=\"translate(7.2 295.19544)scale(0.1 -0.1)\">\r\n       <defs>\r\n        <path d=\"M 37.796875 64.3125 \r\nL 12.890625 25.390625 \r\nL 37.796875 25.390625 \r\nz\r\nM 35.203125 72.90625 \r\nL 47.609375 72.90625 \r\nL 47.609375 25.390625 \r\nL 58.015625 25.390625 \r\nL 58.015625 17.1875 \r\nL 47.609375 17.1875 \r\nL 47.609375 0 \r\nL 37.796875 0 \r\nL 37.796875 17.1875 \r\nL 4.890625 17.1875 \r\nL 4.890625 26.703125 \r\nz\r\n\" id=\"DejaVuSans-52\"/>\r\n       </defs>\r\n       <use xlink:href=\"#DejaVuSans-48\"/>\r\n       <use x=\"63.623047\" xlink:href=\"#DejaVuSans-46\"/>\r\n       <use x=\"95.410156\" xlink:href=\"#DejaVuSans-52\"/>\r\n      </g>\r\n     </g>\r\n    </g>\r\n    <g id=\"ytick_3\">\r\n     <g id=\"line2d_10\">\r\n      <g>\r\n       <use style=\"stroke:#000000;stroke-width:0.8;\" x=\"30.103125\" xlink:href=\"#md7f1a401ad\" y=\"232.396774\"/>\r\n      </g>\r\n     </g>\r\n     <g id=\"text_10\">\r\n      <!-- 0.5 -->\r\n      <g transform=\"translate(7.2 236.195993)scale(0.1 -0.1)\">\r\n       <use xlink:href=\"#DejaVuSans-48\"/>\r\n       <use x=\"63.623047\" xlink:href=\"#DejaVuSans-46\"/>\r\n       <use x=\"95.410156\" xlink:href=\"#DejaVuSans-53\"/>\r\n      </g>\r\n     </g>\r\n    </g>\r\n    <g id=\"ytick_4\">\r\n     <g id=\"line2d_11\">\r\n      <g>\r\n       <use style=\"stroke:#000000;stroke-width:0.8;\" x=\"30.103125\" xlink:href=\"#md7f1a401ad\" y=\"173.397327\"/>\r\n      </g>\r\n     </g>\r\n     <g id=\"text_11\">\r\n      <!-- 0.6 -->\r\n      <g transform=\"translate(7.2 177.196546)scale(0.1 -0.1)\">\r\n       <defs>\r\n        <path d=\"M 33.015625 40.375 \r\nQ 26.375 40.375 22.484375 35.828125 \r\nQ 18.609375 31.296875 18.609375 23.390625 \r\nQ 18.609375 15.53125 22.484375 10.953125 \r\nQ 26.375 6.390625 33.015625 6.390625 \r\nQ 39.65625 6.390625 43.53125 10.953125 \r\nQ 47.40625 15.53125 47.40625 23.390625 \r\nQ 47.40625 31.296875 43.53125 35.828125 \r\nQ 39.65625 40.375 33.015625 40.375 \r\nz\r\nM 52.59375 71.296875 \r\nL 52.59375 62.3125 \r\nQ 48.875 64.0625 45.09375 64.984375 \r\nQ 41.3125 65.921875 37.59375 65.921875 \r\nQ 27.828125 65.921875 22.671875 59.328125 \r\nQ 17.53125 52.734375 16.796875 39.40625 \r\nQ 19.671875 43.65625 24.015625 45.921875 \r\nQ 28.375 48.1875 33.59375 48.1875 \r\nQ 44.578125 48.1875 50.953125 41.515625 \r\nQ 57.328125 34.859375 57.328125 23.390625 \r\nQ 57.328125 12.15625 50.6875 5.359375 \r\nQ 44.046875 -1.421875 33.015625 -1.421875 \r\nQ 20.359375 -1.421875 13.671875 8.265625 \r\nQ 6.984375 17.96875 6.984375 36.375 \r\nQ 6.984375 53.65625 15.1875 63.9375 \r\nQ 23.390625 74.21875 37.203125 74.21875 \r\nQ 40.921875 74.21875 44.703125 73.484375 \r\nQ 48.484375 72.75 52.59375 71.296875 \r\nz\r\n\" id=\"DejaVuSans-54\"/>\r\n       </defs>\r\n       <use xlink:href=\"#DejaVuSans-48\"/>\r\n       <use x=\"63.623047\" xlink:href=\"#DejaVuSans-46\"/>\r\n       <use x=\"95.410156\" xlink:href=\"#DejaVuSans-54\"/>\r\n      </g>\r\n     </g>\r\n    </g>\r\n    <g id=\"ytick_5\">\r\n     <g id=\"line2d_12\">\r\n      <g>\r\n       <use style=\"stroke:#000000;stroke-width:0.8;\" x=\"30.103125\" xlink:href=\"#md7f1a401ad\" y=\"114.39788\"/>\r\n      </g>\r\n     </g>\r\n     <g id=\"text_12\">\r\n      <!-- 0.7 -->\r\n      <g transform=\"translate(7.2 118.197098)scale(0.1 -0.1)\">\r\n       <defs>\r\n        <path d=\"M 8.203125 72.90625 \r\nL 55.078125 72.90625 \r\nL 55.078125 68.703125 \r\nL 28.609375 0 \r\nL 18.3125 0 \r\nL 43.21875 64.59375 \r\nL 8.203125 64.59375 \r\nz\r\n\" id=\"DejaVuSans-55\"/>\r\n       </defs>\r\n       <use xlink:href=\"#DejaVuSans-48\"/>\r\n       <use x=\"63.623047\" xlink:href=\"#DejaVuSans-46\"/>\r\n       <use x=\"95.410156\" xlink:href=\"#DejaVuSans-55\"/>\r\n      </g>\r\n     </g>\r\n    </g>\r\n    <g id=\"ytick_6\">\r\n     <g id=\"line2d_13\">\r\n      <g>\r\n       <use style=\"stroke:#000000;stroke-width:0.8;\" x=\"30.103125\" xlink:href=\"#md7f1a401ad\" y=\"55.398432\"/>\r\n      </g>\r\n     </g>\r\n     <g id=\"text_13\">\r\n      <!-- 0.8 -->\r\n      <g transform=\"translate(7.2 59.197651)scale(0.1 -0.1)\">\r\n       <defs>\r\n        <path d=\"M 31.78125 34.625 \r\nQ 24.75 34.625 20.71875 30.859375 \r\nQ 16.703125 27.09375 16.703125 20.515625 \r\nQ 16.703125 13.921875 20.71875 10.15625 \r\nQ 24.75 6.390625 31.78125 6.390625 \r\nQ 38.8125 6.390625 42.859375 10.171875 \r\nQ 46.921875 13.96875 46.921875 20.515625 \r\nQ 46.921875 27.09375 42.890625 30.859375 \r\nQ 38.875 34.625 31.78125 34.625 \r\nz\r\nM 21.921875 38.8125 \r\nQ 15.578125 40.375 12.03125 44.71875 \r\nQ 8.5 49.078125 8.5 55.328125 \r\nQ 8.5 64.0625 14.71875 69.140625 \r\nQ 20.953125 74.21875 31.78125 74.21875 \r\nQ 42.671875 74.21875 48.875 69.140625 \r\nQ 55.078125 64.0625 55.078125 55.328125 \r\nQ 55.078125 49.078125 51.53125 44.71875 \r\nQ 48 40.375 41.703125 38.8125 \r\nQ 48.828125 37.15625 52.796875 32.3125 \r\nQ 56.78125 27.484375 56.78125 20.515625 \r\nQ 56.78125 9.90625 50.3125 4.234375 \r\nQ 43.84375 -1.421875 31.78125 -1.421875 \r\nQ 19.734375 -1.421875 13.25 4.234375 \r\nQ 6.78125 9.90625 6.78125 20.515625 \r\nQ 6.78125 27.484375 10.78125 32.3125 \r\nQ 14.796875 37.15625 21.921875 38.8125 \r\nz\r\nM 18.3125 54.390625 \r\nQ 18.3125 48.734375 21.84375 45.5625 \r\nQ 25.390625 42.390625 31.78125 42.390625 \r\nQ 38.140625 42.390625 41.71875 45.5625 \r\nQ 45.3125 48.734375 45.3125 54.390625 \r\nQ 45.3125 60.0625 41.71875 63.234375 \r\nQ 38.140625 66.40625 31.78125 66.40625 \r\nQ 25.390625 66.40625 21.84375 63.234375 \r\nQ 18.3125 60.0625 18.3125 54.390625 \r\nz\r\n\" id=\"DejaVuSans-56\"/>\r\n       </defs>\r\n       <use xlink:href=\"#DejaVuSans-48\"/>\r\n       <use x=\"63.623047\" xlink:href=\"#DejaVuSans-46\"/>\r\n       <use x=\"95.410156\" xlink:href=\"#DejaVuSans-56\"/>\r\n      </g>\r\n     </g>\r\n    </g>\r\n   </g>\r\n   <g id=\"line2d_14\">\r\n    <path clip-path=\"url(#p076056b0d5)\" d=\"M 55.466761 24.496364 \r\nL 57.163326 104.846549 \r\nL 58.85989 156.024754 \r\nL 60.556454 182.307884 \r\nL 62.253019 198.593273 \r\nL 63.949583 212.41522 \r\nL 65.646147 221.198875 \r\nL 69.039276 240.009704 \r\nL 70.73584 248.114472 \r\nL 72.432404 258.127105 \r\nL 74.128969 263.562654 \r\nL 75.825533 272.129702 \r\nL 77.522097 278.065335 \r\nL 79.218662 284.924913 \r\nL 82.61179 296.2719 \r\nL 84.308355 299.241862 \r\nL 89.398047 310.335317 \r\nL 91.094612 315.410499 \r\nL 92.791176 316.179447 \r\nL 94.48774 319.686154 \r\nL 96.184305 320.546852 \r\nL 97.880869 323.908796 \r\nL 99.577433 324.709043 \r\nL 101.273998 326.561099 \r\nL 102.970562 327.156432 \r\nL 104.667126 330.561437 \r\nL 106.363691 331.545094 \r\nL 108.060255 333.735628 \r\nL 111.453383 334.70084 \r\nL 113.149948 335.915716 \r\nL 114.846512 338.357654 \r\nL 116.543076 338.551984 \r\nL 118.239641 340.938535 \r\nL 121.632769 341.503167 \r\nL 123.329334 342.565526 \r\nL 126.722462 343.879906 \r\nL 128.419026 345.713008 \r\nL 130.115591 344.925703 \r\nL 131.812155 346.495918 \r\nL 133.508719 346.13504 \r\nL 135.205284 345.966716 \r\nL 136.901848 345.480734 \r\nL 138.598412 348.537539 \r\nL 140.294977 348.992065 \r\nL 141.991541 350.046618 \r\nL 143.688105 348.59792 \r\nL 145.38467 350.600401 \r\nL 147.081234 349.64456 \r\nL 148.777798 351.200727 \r\nL 152.170927 352.578283 \r\nL 153.867491 351.776524 \r\nL 155.564055 352.894007 \r\nL 157.26062 353.029468 \r\nL 158.957184 352.904733 \r\nL 160.653748 351.992252 \r\nL 162.350313 354.166802 \r\nL 164.046877 354.241812 \r\nL 165.743441 352.726949 \r\nL 167.440006 353.672451 \r\nL 169.13657 353.333851 \r\nL 172.529698 355.062245 \r\nL 174.226263 354.430586 \r\nL 175.922827 355.499047 \r\nL 177.619391 355.839053 \r\nL 179.315956 356.927225 \r\nL 181.01252 355.867995 \r\nL 182.709084 355.146257 \r\nL 184.405649 356.36414 \r\nL 186.102213 356.543454 \r\nL 187.798777 357.666142 \r\nL 189.495341 357.123999 \r\nL 191.191906 358.478732 \r\nL 192.88847 356.632355 \r\nL 194.585034 356.067389 \r\nL 196.281599 356.855679 \r\nL 197.978163 356.89765 \r\nL 199.674727 359.621253 \r\nL 201.371292 358.061992 \r\nL 203.067856 359.300254 \r\nL 204.76442 359.414492 \r\nL 206.460985 357.735648 \r\nL 208.157549 359.073167 \r\nL 209.854113 360.035092 \r\nL 211.550677 358.244348 \r\nL 213.247242 358.660314 \r\nL 214.943806 359.243953 \r\nL 216.64037 360.015223 \r\nL 218.336935 360.384857 \r\nL 220.033499 359.380698 \r\nL 221.730063 359.829861 \r\nL 223.426628 360.687253 \r\nL 225.123192 360.586642 \r\nL 226.819756 360.192567 \r\nL 228.516321 359.645817 \r\nL 230.212885 360.991671 \r\nL 231.909449 360.06595 \r\nL 233.606013 360.196857 \r\nL 235.302578 361.49288 \r\nL 236.999142 359.969999 \r\nL 238.695706 361.691324 \r\nL 240.392271 360.520195 \r\nL 242.088835 362.033986 \r\nL 243.785399 360.744117 \r\nL 245.481964 360.757972 \r\nL 247.178528 359.894901 \r\nL 248.875092 361.768128 \r\nL 252.268221 361.700731 \r\nL 253.964785 363.145473 \r\nL 255.661349 360.623391 \r\nL 259.054478 363.459192 \r\nL 260.751042 362.196824 \r\nL 262.447607 363.231894 \r\nL 264.144171 363.699397 \r\nL 265.840735 361.733418 \r\nL 267.5373 361.578757 \r\nL 269.233864 362.284212 \r\nL 270.930428 363.893322 \r\nL 272.626992 362.71697 \r\nL 274.323557 362.823014 \r\nL 276.020121 363.343724 \r\nL 277.716685 363.548691 \r\nL 279.41325 364.740621 \r\nL 281.109814 363.289251 \r\nL 282.806378 363.575822 \r\nL 284.502943 363.527925 \r\nL 286.199507 362.497409 \r\nL 287.896071 362.735134 \r\nL 289.592635 364.184816 \r\nL 292.985764 363.806707 \r\nL 294.682328 364.465339 \r\nL 296.378893 363.090191 \r\nL 298.075457 365.385925 \r\nL 299.772021 362.677513 \r\nL 301.468586 363.182661 \r\nL 303.16515 364.198619 \r\nL 304.861714 364.217486 \r\nL 306.558279 363.494165 \r\nL 309.951407 363.624334 \r\nL 311.647971 363.450049 \r\nL 313.344536 365.257814 \r\nL 315.0411 364.203595 \r\nL 316.737664 363.384446 \r\nL 318.434229 363.985001 \r\nL 320.130793 364.330546 \r\nL 321.827357 365.030006 \r\nL 323.523922 364.685006 \r\nL 325.220486 363.874982 \r\nL 326.91705 364.335504 \r\nL 328.613615 365.090351 \r\nL 330.310179 364.306316 \r\nL 332.006743 366.229514 \r\nL 333.703307 365.585969 \r\nL 335.399872 364.332058 \r\nL 337.096436 365.90164 \r\nL 338.793 364.723126 \r\nL 340.489565 364.569589 \r\nL 343.882693 365.640776 \r\nL 345.579258 364.535496 \r\nL 347.275822 365.276768 \r\nL 348.972386 366.788572 \r\nL 350.66895 366.754268 \r\nL 352.365515 365.962619 \r\nL 355.758643 365.817733 \r\nL 357.455208 367.008943 \r\nL 359.151772 365.097736 \r\nL 360.848336 364.789925 \r\nL 362.544901 365.132621 \r\nL 364.241465 366.444434 \r\nL 365.938029 366.591218 \r\nL 367.634594 366.081763 \r\nL 369.331158 366.109632 \r\nL 371.027722 366.755287 \r\nL 372.724286 366.417778 \r\nL 374.420851 366.837278 \r\nL 376.117415 366.260812 \r\nL 377.813979 367.462853 \r\nL 379.510544 365.072205 \r\nL 381.207108 366.850553 \r\nL 382.903672 366.82497 \r\nL 384.600237 366.675635 \r\nL 386.296801 367.304481 \r\nL 387.993365 367.361468 \r\nL 389.689929 366.855002 \r\nL 391.386494 365.694774 \r\nL 393.083058 366.190691 \r\nL 394.779622 366.495794 \r\nL 396.476187 367.326548 \r\nL 398.172751 367.28834 \r\nL 399.869315 367.695356 \r\nL 401.56588 366.795377 \r\nL 403.262444 366.205672 \r\nL 404.959008 368.121168 \r\nL 406.655573 365.59506 \r\nL 408.352137 367.592072 \r\nL 410.048701 366.312911 \r\nL 411.745265 368.117071 \r\nL 413.44183 367.087346 \r\nL 415.138394 366.398594 \r\nL 416.834958 366.285816 \r\nL 418.531523 365.880576 \r\nL 420.228087 367.124886 \r\nL 421.924651 368.006262 \r\nL 423.621216 367.148923 \r\nL 428.710909 367.642606 \r\nL 430.407473 369.670935 \r\nL 432.104037 365.374496 \r\nL 433.800601 369.045324 \r\nL 435.497166 367.884358 \r\nL 437.19373 369.137794 \r\nL 438.890294 367.017594 \r\nL 440.586859 368.458274 \r\nL 442.283423 367.791993 \r\nL 443.979987 368.361689 \r\nL 445.676552 366.374488 \r\nL 447.373116 366.933265 \r\nL 449.06968 367.283768 \r\nL 450.766244 368.143394 \r\nL 452.462809 367.260189 \r\nL 454.159373 368.381857 \r\nL 455.855937 366.994648 \r\nL 457.552502 369.296324 \r\nL 459.249066 367.128174 \r\nL 460.94563 370.3331 \r\nL 462.642195 368.549425 \r\nL 464.338759 367.926944 \r\nL 466.035323 369.040647 \r\nL 467.731888 367.389215 \r\nL 469.428452 369.411107 \r\nL 472.82158 367.994464 \r\nL 474.518145 368.190253 \r\nL 476.214709 367.459442 \r\nL 477.911273 368.076155 \r\nL 479.607838 369.285915 \r\nL 481.304402 367.745433 \r\nL 483.000966 367.730997 \r\nL 484.697531 368.43858 \r\nL 486.394095 367.690855 \r\nL 488.090659 368.208944 \r\nL 489.787224 368.553135 \r\nL 491.483788 368.469087 \r\nL 493.180352 368.512746 \r\nL 494.876916 369.881581 \r\nL 496.573481 367.31999 \r\nL 498.270045 368.049798 \r\nL 499.966609 370.15347 \r\nL 501.663174 367.816592 \r\nL 503.359738 369.82208 \r\nL 505.056302 368.251952 \r\nL 506.752867 369.663567 \r\nL 508.449431 368.887022 \r\nL 510.145995 368.318346 \r\nL 511.842559 368.735033 \r\nL 515.235688 369.045535 \r\nL 516.932252 369.380442 \r\nL 518.628817 368.916316 \r\nL 520.325381 370.102866 \r\nL 523.71851 368.743245 \r\nL 525.415074 367.580362 \r\nL 527.111638 369.500571 \r\nL 528.808203 370.038634 \r\nL 530.504767 369.06085 \r\nL 532.201331 369.230809 \r\nL 533.897895 369.025156 \r\nL 535.59446 369.490601 \r\nL 537.291024 368.873694 \r\nL 538.987588 369.822027 \r\nL 540.684153 368.70319 \r\nL 542.380717 368.873782 \r\nL 544.077281 368.691761 \r\nL 545.773846 369.133135 \r\nL 547.47041 368.700306 \r\nL 549.166974 370.060315 \r\nL 550.863538 369.792065 \r\nL 552.560103 369.082952 \r\nL 554.256667 368.682301 \r\nL 555.953231 368.661272 \r\nL 557.649796 369.48886 \r\nL 559.34636 368.788152 \r\nL 561.042924 370.423636 \r\nL 562.739489 370.20615 \r\nL 562.739489 370.20615 \r\n\" style=\"fill:none;stroke:#1f77b4;stroke-linecap:square;stroke-width:1.5;\"/>\r\n   </g>\r\n   <g id=\"patch_3\">\r\n    <path d=\"M 30.103125 387.72 \r\nL 30.103125 7.2 \r\n\" style=\"fill:none;stroke:#000000;stroke-linecap:square;stroke-linejoin:miter;stroke-width:0.8;\"/>\r\n   </g>\r\n   <g id=\"patch_4\">\r\n    <path d=\"M 588.103125 387.72 \r\nL 588.103125 7.2 \r\n\" style=\"fill:none;stroke:#000000;stroke-linecap:square;stroke-linejoin:miter;stroke-width:0.8;\"/>\r\n   </g>\r\n   <g id=\"patch_5\">\r\n    <path d=\"M 30.103125 387.72 \r\nL 588.103125 387.72 \r\n\" style=\"fill:none;stroke:#000000;stroke-linecap:square;stroke-linejoin:miter;stroke-width:0.8;\"/>\r\n   </g>\r\n   <g id=\"patch_6\">\r\n    <path d=\"M 30.103125 7.2 \r\nL 588.103125 7.2 \r\n\" style=\"fill:none;stroke:#000000;stroke-linecap:square;stroke-linejoin:miter;stroke-width:0.8;\"/>\r\n   </g>\r\n  </g>\r\n </g>\r\n <defs>\r\n  <clipPath id=\"p076056b0d5\">\r\n   <rect height=\"380.52\" width=\"558\" x=\"30.103125\" y=\"7.2\"/>\r\n  </clipPath>\r\n </defs>\r\n</svg>\r\n",
      "image/png": "[encoded data removed]"
     },
     "metadata": {
      "needs_background": "light"
     }
    }
   ],
   "source": [
    "plt.figure(figsize=(10, 7))\n",
    "plt.plot(range(epochs), losses)"
   ]
  },
  {
   "source": [
    "## 7. Evaluate the test set"
   ],
   "cell_type": "markdown",
   "metadata": {}
  },
  {
   "cell_type": "code",
   "execution_count": 62,
   "metadata": {},
   "outputs": [
    {
     "output_type": "stream",
     "name": "stdout",
     "text": [
      "tensor(0.2751)\n"
     ]
    }
   ],
   "source": [
    "with torch.no_grad():\n",
    "    y_eval = model(cat_te, cont_te)\n",
    "    loss = criterion(y_val, y_te)\n",
    "\n",
    "print(loss)"
   ]
  },
  {
   "cell_type": "code",
   "execution_count": 74,
   "metadata": {
    "tags": []
   },
   "outputs": [
    {
     "output_type": "stream",
     "name": "stdout",
     "text": [
      "The accuracy of the model is: 0.8706 with 4353 correct overr 5000\n"
     ]
    }
   ],
   "source": [
    "correct = 0\n",
    "\n",
    "for i in range(len(y_te)):\n",
    "    # print(y_eval[i].argmax().item(), ' | ', y_te[i].item())\n",
    "    if y_eval[i].argmax().item() == y_te[i]:\n",
    "        correct += 1\n",
    "\n",
    "print(f'The accuracy of the model is: {correct/len(y_te)} with {correct} correct overr {len(y_te)}')"
   ]
  }
 ]
}