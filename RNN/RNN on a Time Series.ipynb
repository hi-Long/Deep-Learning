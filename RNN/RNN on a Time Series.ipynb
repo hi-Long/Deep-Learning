{
 "metadata": {
  "language_info": {
   "codemirror_mode": {
    "name": "ipython",
    "version": 3
   },
   "file_extension": ".py",
   "mimetype": "text/x-python",
   "name": "python",
   "nbconvert_exporter": "python",
   "pygments_lexer": "ipython3",
   "version": "3.8.5-final"
  },
  "orig_nbformat": 2,
  "kernelspec": {
   "name": "python385jvsc74a57bd082513f59c0d28b90688d7f7275c84cb59de2ed646ae9bf0e80c508bb5b68947e",
   "display_name": "Python 3.8.5 64-bit (conda)"
  }
 },
 "nbformat": 4,
 "nbformat_minor": 2,
 "cells": [
  {
   "cell_type": "code",
   "execution_count": 2,
   "metadata": {},
   "outputs": [],
   "source": [
    "import torch \n",
    "import torch.nn as nn\n",
    "\n",
    "import numpy as np\n",
    "import pandas as pd\n",
    "import matplotlib.pyplot as plt\n",
    "\n",
    "from pandas.plotting import register_matplotlib_converters\n",
    "register_matplotlib_converters()"
   ]
  },
  {
   "cell_type": "code",
   "execution_count": 3,
   "metadata": {},
   "outputs": [],
   "source": [
    "df = pd.read_csv('../Datasets\\TimeSeriesData\\Alcohol_Sales.csv', index_col=0, parse_dates=True)"
   ]
  },
  {
   "cell_type": "code",
   "execution_count": 6,
   "metadata": {},
   "outputs": [
    {
     "output_type": "execute_result",
     "data": {
      "text/plain": [
       "0"
      ]
     },
     "metadata": {},
     "execution_count": 6
    }
   ],
   "source": [
    "torch.cuda.current_device()"
   ]
  },
  {
   "cell_type": "code",
   "execution_count": 4,
   "metadata": {},
   "outputs": [
    {
     "output_type": "execute_result",
     "data": {
      "text/plain": [
       "            S4248SM144NCEN\n",
       "DATE                      \n",
       "1992-01-01            3459\n",
       "1992-02-01            3458\n",
       "1992-03-01            4002\n",
       "1992-04-01            4564\n",
       "1992-05-01            4221"
      ],
      "text/html": "<div>\n<style scoped>\n    .dataframe tbody tr th:only-of-type {\n        vertical-align: middle;\n    }\n\n    .dataframe tbody tr th {\n        vertical-align: top;\n    }\n\n    .dataframe thead th {\n        text-align: right;\n    }\n</style>\n<table border=\"1\" class=\"dataframe\">\n  <thead>\n    <tr style=\"text-align: right;\">\n      <th></th>\n      <th>S4248SM144NCEN</th>\n    </tr>\n    <tr>\n      <th>DATE</th>\n      <th></th>\n    </tr>\n  </thead>\n  <tbody>\n    <tr>\n      <th>1992-01-01</th>\n      <td>3459</td>\n    </tr>\n    <tr>\n      <th>1992-02-01</th>\n      <td>3458</td>\n    </tr>\n    <tr>\n      <th>1992-03-01</th>\n      <td>4002</td>\n    </tr>\n    <tr>\n      <th>1992-04-01</th>\n      <td>4564</td>\n    </tr>\n    <tr>\n      <th>1992-05-01</th>\n      <td>4221</td>\n    </tr>\n  </tbody>\n</table>\n</div>"
     },
     "metadata": {},
     "execution_count": 4
    }
   ],
   "source": [
    "df.head()"
   ]
  },
  {
   "cell_type": "code",
   "execution_count": 5,
   "metadata": {},
   "outputs": [
    {
     "output_type": "execute_result",
     "data": {
      "text/plain": [
       "            S4248SM144NCEN\n",
       "DATE                      \n",
       "2018-09-01           12396\n",
       "2018-10-01           13914\n",
       "2018-11-01           14174\n",
       "2018-12-01           15504\n",
       "2019-01-01           10718"
      ],
      "text/html": "<div>\n<style scoped>\n    .dataframe tbody tr th:only-of-type {\n        vertical-align: middle;\n    }\n\n    .dataframe tbody tr th {\n        vertical-align: top;\n    }\n\n    .dataframe thead th {\n        text-align: right;\n    }\n</style>\n<table border=\"1\" class=\"dataframe\">\n  <thead>\n    <tr style=\"text-align: right;\">\n      <th></th>\n      <th>S4248SM144NCEN</th>\n    </tr>\n    <tr>\n      <th>DATE</th>\n      <th></th>\n    </tr>\n  </thead>\n  <tbody>\n    <tr>\n      <th>2018-09-01</th>\n      <td>12396</td>\n    </tr>\n    <tr>\n      <th>2018-10-01</th>\n      <td>13914</td>\n    </tr>\n    <tr>\n      <th>2018-11-01</th>\n      <td>14174</td>\n    </tr>\n    <tr>\n      <th>2018-12-01</th>\n      <td>15504</td>\n    </tr>\n    <tr>\n      <th>2019-01-01</th>\n      <td>10718</td>\n    </tr>\n  </tbody>\n</table>\n</div>"
     },
     "metadata": {},
     "execution_count": 5
    }
   ],
   "source": [
    "df.tail()"
   ]
  },
  {
   "cell_type": "code",
   "execution_count": 6,
   "metadata": {},
   "outputs": [],
   "source": [
    "df = df.dropna()"
   ]
  },
  {
   "cell_type": "code",
   "execution_count": 7,
   "metadata": {},
   "outputs": [
    {
     "output_type": "execute_result",
     "data": {
      "text/plain": [
       "<AxesSubplot:xlabel='DATE'>"
      ]
     },
     "metadata": {},
     "execution_count": 7
    },
    {
     "output_type": "display_data",
     "data": {
      "text/plain": "<Figure size 432x288 with 1 Axes>",
      "image/svg+xml": "<?xml version=\"1.0\" encoding=\"utf-8\" standalone=\"no\"?>\r\n<!DOCTYPE svg PUBLIC \"-//W3C//DTD SVG 1.1//EN\"\r\n  \"http://www.w3.org/Graphics/SVG/1.1/DTD/svg11.dtd\">\r\n<!-- Created with matplotlib (https://matplotlib.org/) -->\r\n<svg height=\"263.972465pt\" version=\"1.1\" viewBox=\"0 0 400.7375 263.972465\" width=\"400.7375pt\" xmlns=\"http://www.w3.org/2000/svg\" xmlns:xlink=\"http://www.w3.org/1999/xlink\">\r\n <metadata>\r\n  <rdf:RDF xmlns:cc=\"http://creativecommons.org/ns#\" xmlns:dc=\"http://purl.org/dc/elements/1.1/\" xmlns:rdf=\"http://www.w3.org/1999/02/22-rdf-syntax-ns#\">\r\n   <cc:Work>\r\n    <dc:type rdf:resource=\"http://purl.org/dc/dcmitype/StillImage\"/>\r\n    <dc:date>2021-04-15T16:32:21.435476</dc:date>\r\n    <dc:format>image/svg+xml</dc:format>\r\n    <dc:creator>\r\n     <cc:Agent>\r\n      <dc:title>Matplotlib v3.3.2, https://matplotlib.org/</dc:title>\r\n     </cc:Agent>\r\n    </dc:creator>\r\n   </cc:Work>\r\n  </rdf:RDF>\r\n </metadata>\r\n <defs>\r\n  <style type=\"text/css\">*{stroke-linecap:butt;stroke-linejoin:round;}</style>\r\n </defs>\r\n <g id=\"figure_1\">\r\n  <g id=\"patch_1\">\r\n   <path d=\"M 0 263.972465 \r\nL 400.7375 263.972465 \r\nL 400.7375 0 \r\nL 0 0 \r\nz\r\n\" style=\"fill:none;\"/>\r\n  </g>\r\n  <g id=\"axes_1\">\r\n   <g id=\"patch_2\">\r\n    <path d=\"M 46.0125 226.416215 \r\nL 380.8125 226.416215 \r\nL 380.8125 8.976215 \r\nL 46.0125 8.976215 \r\nz\r\n\" style=\"fill:#ffffff;\"/>\r\n   </g>\r\n   <g id=\"matplotlib.axis_1\">\r\n    <g id=\"xtick_1\">\r\n     <g id=\"line2d_1\">\r\n      <defs>\r\n       <path d=\"M 0 0 \r\nL 0 3.5 \r\n\" id=\"m1961ed110b\" style=\"stroke:#000000;stroke-width:0.8;\"/>\r\n      </defs>\r\n      <g>\r\n       <use style=\"stroke:#000000;stroke-width:0.8;\" x=\"70.8125\" xlink:href=\"#m1961ed110b\" y=\"226.416215\"/>\r\n      </g>\r\n     </g>\r\n     <g id=\"text_1\">\r\n      <!-- 1994 -->\r\n      <g transform=\"translate(58.0875 241.014653)scale(0.1 -0.1)\">\r\n       <defs>\r\n        <path d=\"M 12.40625 8.296875 \r\nL 28.515625 8.296875 \r\nL 28.515625 63.921875 \r\nL 10.984375 60.40625 \r\nL 10.984375 69.390625 \r\nL 28.421875 72.90625 \r\nL 38.28125 72.90625 \r\nL 38.28125 8.296875 \r\nL 54.390625 8.296875 \r\nL 54.390625 0 \r\nL 12.40625 0 \r\nz\r\n\" id=\"DejaVuSans-49\"/>\r\n        <path d=\"M 10.984375 1.515625 \r\nL 10.984375 10.5 \r\nQ 14.703125 8.734375 18.5 7.8125 \r\nQ 22.3125 6.890625 25.984375 6.890625 \r\nQ 35.75 6.890625 40.890625 13.453125 \r\nQ 46.046875 20.015625 46.78125 33.40625 \r\nQ 43.953125 29.203125 39.59375 26.953125 \r\nQ 35.25 24.703125 29.984375 24.703125 \r\nQ 19.046875 24.703125 12.671875 31.3125 \r\nQ 6.296875 37.9375 6.296875 49.421875 \r\nQ 6.296875 60.640625 12.9375 67.421875 \r\nQ 19.578125 74.21875 30.609375 74.21875 \r\nQ 43.265625 74.21875 49.921875 64.515625 \r\nQ 56.59375 54.828125 56.59375 36.375 \r\nQ 56.59375 19.140625 48.40625 8.859375 \r\nQ 40.234375 -1.421875 26.421875 -1.421875 \r\nQ 22.703125 -1.421875 18.890625 -0.6875 \r\nQ 15.09375 0.046875 10.984375 1.515625 \r\nz\r\nM 30.609375 32.421875 \r\nQ 37.25 32.421875 41.125 36.953125 \r\nQ 45.015625 41.5 45.015625 49.421875 \r\nQ 45.015625 57.28125 41.125 61.84375 \r\nQ 37.25 66.40625 30.609375 66.40625 \r\nQ 23.96875 66.40625 20.09375 61.84375 \r\nQ 16.21875 57.28125 16.21875 49.421875 \r\nQ 16.21875 41.5 20.09375 36.953125 \r\nQ 23.96875 32.421875 30.609375 32.421875 \r\nz\r\n\" id=\"DejaVuSans-57\"/>\r\n        <path d=\"M 37.796875 64.3125 \r\nL 12.890625 25.390625 \r\nL 37.796875 25.390625 \r\nz\r\nM 35.203125 72.90625 \r\nL 47.609375 72.90625 \r\nL 47.609375 25.390625 \r\nL 58.015625 25.390625 \r\nL 58.015625 17.1875 \r\nL 47.609375 17.1875 \r\nL 47.609375 0 \r\nL 37.796875 0 \r\nL 37.796875 17.1875 \r\nL 4.890625 17.1875 \r\nL 4.890625 26.703125 \r\nz\r\n\" id=\"DejaVuSans-52\"/>\r\n       </defs>\r\n       <use xlink:href=\"#DejaVuSans-49\"/>\r\n       <use x=\"63.623047\" xlink:href=\"#DejaVuSans-57\"/>\r\n       <use x=\"127.246094\" xlink:href=\"#DejaVuSans-57\"/>\r\n       <use x=\"190.869141\" xlink:href=\"#DejaVuSans-52\"/>\r\n      </g>\r\n     </g>\r\n    </g>\r\n    <g id=\"xtick_2\">\r\n     <g id=\"line2d_2\">\r\n      <g>\r\n       <use style=\"stroke:#000000;stroke-width:0.8;\" x=\"132.8125\" xlink:href=\"#m1961ed110b\" y=\"226.416215\"/>\r\n      </g>\r\n     </g>\r\n     <g id=\"text_2\">\r\n      <!-- 1999 -->\r\n      <g transform=\"translate(120.0875 241.014653)scale(0.1 -0.1)\">\r\n       <use xlink:href=\"#DejaVuSans-49\"/>\r\n       <use x=\"63.623047\" xlink:href=\"#DejaVuSans-57\"/>\r\n       <use x=\"127.246094\" xlink:href=\"#DejaVuSans-57\"/>\r\n       <use x=\"190.869141\" xlink:href=\"#DejaVuSans-57\"/>\r\n      </g>\r\n     </g>\r\n    </g>\r\n    <g id=\"xtick_3\">\r\n     <g id=\"line2d_3\">\r\n      <g>\r\n       <use style=\"stroke:#000000;stroke-width:0.8;\" x=\"194.8125\" xlink:href=\"#m1961ed110b\" y=\"226.416215\"/>\r\n      </g>\r\n     </g>\r\n     <g id=\"text_3\">\r\n      <!-- 2004 -->\r\n      <g transform=\"translate(182.0875 241.014653)scale(0.1 -0.1)\">\r\n       <defs>\r\n        <path d=\"M 19.1875 8.296875 \r\nL 53.609375 8.296875 \r\nL 53.609375 0 \r\nL 7.328125 0 \r\nL 7.328125 8.296875 \r\nQ 12.9375 14.109375 22.625 23.890625 \r\nQ 32.328125 33.6875 34.8125 36.53125 \r\nQ 39.546875 41.84375 41.421875 45.53125 \r\nQ 43.3125 49.21875 43.3125 52.78125 \r\nQ 43.3125 58.59375 39.234375 62.25 \r\nQ 35.15625 65.921875 28.609375 65.921875 \r\nQ 23.96875 65.921875 18.8125 64.3125 \r\nQ 13.671875 62.703125 7.8125 59.421875 \r\nL 7.8125 69.390625 \r\nQ 13.765625 71.78125 18.9375 73 \r\nQ 24.125 74.21875 28.421875 74.21875 \r\nQ 39.75 74.21875 46.484375 68.546875 \r\nQ 53.21875 62.890625 53.21875 53.421875 \r\nQ 53.21875 48.921875 51.53125 44.890625 \r\nQ 49.859375 40.875 45.40625 35.40625 \r\nQ 44.1875 33.984375 37.640625 27.21875 \r\nQ 31.109375 20.453125 19.1875 8.296875 \r\nz\r\n\" id=\"DejaVuSans-50\"/>\r\n        <path d=\"M 31.78125 66.40625 \r\nQ 24.171875 66.40625 20.328125 58.90625 \r\nQ 16.5 51.421875 16.5 36.375 \r\nQ 16.5 21.390625 20.328125 13.890625 \r\nQ 24.171875 6.390625 31.78125 6.390625 \r\nQ 39.453125 6.390625 43.28125 13.890625 \r\nQ 47.125 21.390625 47.125 36.375 \r\nQ 47.125 51.421875 43.28125 58.90625 \r\nQ 39.453125 66.40625 31.78125 66.40625 \r\nz\r\nM 31.78125 74.21875 \r\nQ 44.046875 74.21875 50.515625 64.515625 \r\nQ 56.984375 54.828125 56.984375 36.375 \r\nQ 56.984375 17.96875 50.515625 8.265625 \r\nQ 44.046875 -1.421875 31.78125 -1.421875 \r\nQ 19.53125 -1.421875 13.0625 8.265625 \r\nQ 6.59375 17.96875 6.59375 36.375 \r\nQ 6.59375 54.828125 13.0625 64.515625 \r\nQ 19.53125 74.21875 31.78125 74.21875 \r\nz\r\n\" id=\"DejaVuSans-48\"/>\r\n       </defs>\r\n       <use xlink:href=\"#DejaVuSans-50\"/>\r\n       <use x=\"63.623047\" xlink:href=\"#DejaVuSans-48\"/>\r\n       <use x=\"127.246094\" xlink:href=\"#DejaVuSans-48\"/>\r\n       <use x=\"190.869141\" xlink:href=\"#DejaVuSans-52\"/>\r\n      </g>\r\n     </g>\r\n    </g>\r\n    <g id=\"xtick_4\">\r\n     <g id=\"line2d_4\">\r\n      <g>\r\n       <use style=\"stroke:#000000;stroke-width:0.8;\" x=\"256.8125\" xlink:href=\"#m1961ed110b\" y=\"226.416215\"/>\r\n      </g>\r\n     </g>\r\n     <g id=\"text_4\">\r\n      <!-- 2009 -->\r\n      <g transform=\"translate(244.0875 241.014653)scale(0.1 -0.1)\">\r\n       <use xlink:href=\"#DejaVuSans-50\"/>\r\n       <use x=\"63.623047\" xlink:href=\"#DejaVuSans-48\"/>\r\n       <use x=\"127.246094\" xlink:href=\"#DejaVuSans-48\"/>\r\n       <use x=\"190.869141\" xlink:href=\"#DejaVuSans-57\"/>\r\n      </g>\r\n     </g>\r\n    </g>\r\n    <g id=\"xtick_5\">\r\n     <g id=\"line2d_5\">\r\n      <g>\r\n       <use style=\"stroke:#000000;stroke-width:0.8;\" x=\"318.8125\" xlink:href=\"#m1961ed110b\" y=\"226.416215\"/>\r\n      </g>\r\n     </g>\r\n     <g id=\"text_5\">\r\n      <!-- 2014 -->\r\n      <g transform=\"translate(306.0875 241.014653)scale(0.1 -0.1)\">\r\n       <use xlink:href=\"#DejaVuSans-50\"/>\r\n       <use x=\"63.623047\" xlink:href=\"#DejaVuSans-48\"/>\r\n       <use x=\"127.246094\" xlink:href=\"#DejaVuSans-49\"/>\r\n       <use x=\"190.869141\" xlink:href=\"#DejaVuSans-52\"/>\r\n      </g>\r\n     </g>\r\n    </g>\r\n    <g id=\"xtick_6\">\r\n     <g id=\"line2d_6\">\r\n      <g>\r\n       <use style=\"stroke:#000000;stroke-width:0.8;\" x=\"380.8125\" xlink:href=\"#m1961ed110b\" y=\"226.416215\"/>\r\n      </g>\r\n     </g>\r\n     <g id=\"text_6\">\r\n      <!-- 2019 -->\r\n      <g transform=\"translate(368.0875 241.014653)scale(0.1 -0.1)\">\r\n       <use xlink:href=\"#DejaVuSans-50\"/>\r\n       <use x=\"63.623047\" xlink:href=\"#DejaVuSans-48\"/>\r\n       <use x=\"127.246094\" xlink:href=\"#DejaVuSans-49\"/>\r\n       <use x=\"190.869141\" xlink:href=\"#DejaVuSans-57\"/>\r\n      </g>\r\n     </g>\r\n    </g>\r\n    <g id=\"xtick_7\">\r\n     <g id=\"line2d_7\">\r\n      <defs>\r\n       <path d=\"M 0 0 \r\nL 0 2 \r\n\" id=\"mc3f415d7dc\" style=\"stroke:#000000;stroke-width:0.6;\"/>\r\n      </defs>\r\n      <g>\r\n       <use style=\"stroke:#000000;stroke-width:0.6;\" x=\"46.0125\" xlink:href=\"#mc3f415d7dc\" y=\"226.416215\"/>\r\n      </g>\r\n     </g>\r\n    </g>\r\n    <g id=\"xtick_8\">\r\n     <g id=\"line2d_8\">\r\n      <g>\r\n       <use style=\"stroke:#000000;stroke-width:0.6;\" x=\"58.4125\" xlink:href=\"#mc3f415d7dc\" y=\"226.416215\"/>\r\n      </g>\r\n     </g>\r\n    </g>\r\n    <g id=\"xtick_9\">\r\n     <g id=\"line2d_9\">\r\n      <g>\r\n       <use style=\"stroke:#000000;stroke-width:0.6;\" x=\"83.2125\" xlink:href=\"#mc3f415d7dc\" y=\"226.416215\"/>\r\n      </g>\r\n     </g>\r\n    </g>\r\n    <g id=\"xtick_10\">\r\n     <g id=\"line2d_10\">\r\n      <g>\r\n       <use style=\"stroke:#000000;stroke-width:0.6;\" x=\"95.6125\" xlink:href=\"#mc3f415d7dc\" y=\"226.416215\"/>\r\n      </g>\r\n     </g>\r\n    </g>\r\n    <g id=\"xtick_11\">\r\n     <g id=\"line2d_11\">\r\n      <g>\r\n       <use style=\"stroke:#000000;stroke-width:0.6;\" x=\"108.0125\" xlink:href=\"#mc3f415d7dc\" y=\"226.416215\"/>\r\n      </g>\r\n     </g>\r\n    </g>\r\n    <g id=\"xtick_12\">\r\n     <g id=\"line2d_12\">\r\n      <g>\r\n       <use style=\"stroke:#000000;stroke-width:0.6;\" x=\"120.4125\" xlink:href=\"#mc3f415d7dc\" y=\"226.416215\"/>\r\n      </g>\r\n     </g>\r\n    </g>\r\n    <g id=\"xtick_13\">\r\n     <g id=\"line2d_13\">\r\n      <g>\r\n       <use style=\"stroke:#000000;stroke-width:0.6;\" x=\"145.2125\" xlink:href=\"#mc3f415d7dc\" y=\"226.416215\"/>\r\n      </g>\r\n     </g>\r\n    </g>\r\n    <g id=\"xtick_14\">\r\n     <g id=\"line2d_14\">\r\n      <g>\r\n       <use style=\"stroke:#000000;stroke-width:0.6;\" x=\"157.6125\" xlink:href=\"#mc3f415d7dc\" y=\"226.416215\"/>\r\n      </g>\r\n     </g>\r\n    </g>\r\n    <g id=\"xtick_15\">\r\n     <g id=\"line2d_15\">\r\n      <g>\r\n       <use style=\"stroke:#000000;stroke-width:0.6;\" x=\"170.0125\" xlink:href=\"#mc3f415d7dc\" y=\"226.416215\"/>\r\n      </g>\r\n     </g>\r\n    </g>\r\n    <g id=\"xtick_16\">\r\n     <g id=\"line2d_16\">\r\n      <g>\r\n       <use style=\"stroke:#000000;stroke-width:0.6;\" x=\"182.4125\" xlink:href=\"#mc3f415d7dc\" y=\"226.416215\"/>\r\n      </g>\r\n     </g>\r\n    </g>\r\n    <g id=\"xtick_17\">\r\n     <g id=\"line2d_17\">\r\n      <g>\r\n       <use style=\"stroke:#000000;stroke-width:0.6;\" x=\"207.2125\" xlink:href=\"#mc3f415d7dc\" y=\"226.416215\"/>\r\n      </g>\r\n     </g>\r\n    </g>\r\n    <g id=\"xtick_18\">\r\n     <g id=\"line2d_18\">\r\n      <g>\r\n       <use style=\"stroke:#000000;stroke-width:0.6;\" x=\"219.6125\" xlink:href=\"#mc3f415d7dc\" y=\"226.416215\"/>\r\n      </g>\r\n     </g>\r\n    </g>\r\n    <g id=\"xtick_19\">\r\n     <g id=\"line2d_19\">\r\n      <g>\r\n       <use style=\"stroke:#000000;stroke-width:0.6;\" x=\"232.0125\" xlink:href=\"#mc3f415d7dc\" y=\"226.416215\"/>\r\n      </g>\r\n     </g>\r\n    </g>\r\n    <g id=\"xtick_20\">\r\n     <g id=\"line2d_20\">\r\n      <g>\r\n       <use style=\"stroke:#000000;stroke-width:0.6;\" x=\"244.4125\" xlink:href=\"#mc3f415d7dc\" y=\"226.416215\"/>\r\n      </g>\r\n     </g>\r\n    </g>\r\n    <g id=\"xtick_21\">\r\n     <g id=\"line2d_21\">\r\n      <g>\r\n       <use style=\"stroke:#000000;stroke-width:0.6;\" x=\"269.2125\" xlink:href=\"#mc3f415d7dc\" y=\"226.416215\"/>\r\n      </g>\r\n     </g>\r\n    </g>\r\n    <g id=\"xtick_22\">\r\n     <g id=\"line2d_22\">\r\n      <g>\r\n       <use style=\"stroke:#000000;stroke-width:0.6;\" x=\"281.6125\" xlink:href=\"#mc3f415d7dc\" y=\"226.416215\"/>\r\n      </g>\r\n     </g>\r\n    </g>\r\n    <g id=\"xtick_23\">\r\n     <g id=\"line2d_23\">\r\n      <g>\r\n       <use style=\"stroke:#000000;stroke-width:0.6;\" x=\"294.0125\" xlink:href=\"#mc3f415d7dc\" y=\"226.416215\"/>\r\n      </g>\r\n     </g>\r\n    </g>\r\n    <g id=\"xtick_24\">\r\n     <g id=\"line2d_24\">\r\n      <g>\r\n       <use style=\"stroke:#000000;stroke-width:0.6;\" x=\"306.4125\" xlink:href=\"#mc3f415d7dc\" y=\"226.416215\"/>\r\n      </g>\r\n     </g>\r\n    </g>\r\n    <g id=\"xtick_25\">\r\n     <g id=\"line2d_25\">\r\n      <g>\r\n       <use style=\"stroke:#000000;stroke-width:0.6;\" x=\"331.2125\" xlink:href=\"#mc3f415d7dc\" y=\"226.416215\"/>\r\n      </g>\r\n     </g>\r\n    </g>\r\n    <g id=\"xtick_26\">\r\n     <g id=\"line2d_26\">\r\n      <g>\r\n       <use style=\"stroke:#000000;stroke-width:0.6;\" x=\"343.6125\" xlink:href=\"#mc3f415d7dc\" y=\"226.416215\"/>\r\n      </g>\r\n     </g>\r\n    </g>\r\n    <g id=\"xtick_27\">\r\n     <g id=\"line2d_27\">\r\n      <g>\r\n       <use style=\"stroke:#000000;stroke-width:0.6;\" x=\"356.0125\" xlink:href=\"#mc3f415d7dc\" y=\"226.416215\"/>\r\n      </g>\r\n     </g>\r\n    </g>\r\n    <g id=\"xtick_28\">\r\n     <g id=\"line2d_28\">\r\n      <g>\r\n       <use style=\"stroke:#000000;stroke-width:0.6;\" x=\"368.4125\" xlink:href=\"#mc3f415d7dc\" y=\"226.416215\"/>\r\n      </g>\r\n     </g>\r\n    </g>\r\n    <g id=\"text_7\">\r\n     <!-- DATE -->\r\n     <g transform=\"translate(200.403906 254.692778)scale(0.1 -0.1)\">\r\n      <defs>\r\n       <path d=\"M 19.671875 64.796875 \r\nL 19.671875 8.109375 \r\nL 31.59375 8.109375 \r\nQ 46.6875 8.109375 53.6875 14.9375 \r\nQ 60.6875 21.78125 60.6875 36.53125 \r\nQ 60.6875 51.171875 53.6875 57.984375 \r\nQ 46.6875 64.796875 31.59375 64.796875 \r\nz\r\nM 9.8125 72.90625 \r\nL 30.078125 72.90625 \r\nQ 51.265625 72.90625 61.171875 64.09375 \r\nQ 71.09375 55.28125 71.09375 36.53125 \r\nQ 71.09375 17.671875 61.125 8.828125 \r\nQ 51.171875 0 30.078125 0 \r\nL 9.8125 0 \r\nz\r\n\" id=\"DejaVuSans-68\"/>\r\n       <path d=\"M 34.1875 63.1875 \r\nL 20.796875 26.90625 \r\nL 47.609375 26.90625 \r\nz\r\nM 28.609375 72.90625 \r\nL 39.796875 72.90625 \r\nL 67.578125 0 \r\nL 57.328125 0 \r\nL 50.6875 18.703125 \r\nL 17.828125 18.703125 \r\nL 11.1875 0 \r\nL 0.78125 0 \r\nz\r\n\" id=\"DejaVuSans-65\"/>\r\n       <path d=\"M -0.296875 72.90625 \r\nL 61.375 72.90625 \r\nL 61.375 64.59375 \r\nL 35.5 64.59375 \r\nL 35.5 0 \r\nL 25.59375 0 \r\nL 25.59375 64.59375 \r\nL -0.296875 64.59375 \r\nz\r\n\" id=\"DejaVuSans-84\"/>\r\n       <path d=\"M 9.8125 72.90625 \r\nL 55.90625 72.90625 \r\nL 55.90625 64.59375 \r\nL 19.671875 64.59375 \r\nL 19.671875 43.015625 \r\nL 54.390625 43.015625 \r\nL 54.390625 34.71875 \r\nL 19.671875 34.71875 \r\nL 19.671875 8.296875 \r\nL 56.78125 8.296875 \r\nL 56.78125 0 \r\nL 9.8125 0 \r\nz\r\n\" id=\"DejaVuSans-69\"/>\r\n      </defs>\r\n      <use xlink:href=\"#DejaVuSans-68\"/>\r\n      <use x=\"75.251953\" xlink:href=\"#DejaVuSans-65\"/>\r\n      <use x=\"135.910156\" xlink:href=\"#DejaVuSans-84\"/>\r\n      <use x=\"196.994141\" xlink:href=\"#DejaVuSans-69\"/>\r\n     </g>\r\n    </g>\r\n   </g>\r\n   <g id=\"matplotlib.axis_2\">\r\n    <g id=\"ytick_1\">\r\n     <g id=\"line2d_29\">\r\n      <defs>\r\n       <path d=\"M 0 0 \r\nL -3.5 0 \r\n\" id=\"m46cc533396\" style=\"stroke:#000000;stroke-width:0.8;\"/>\r\n      </defs>\r\n      <g>\r\n       <use style=\"stroke:#000000;stroke-width:0.8;\" x=\"46.0125\" xlink:href=\"#m46cc533396\" y=\"201.175818\"/>\r\n      </g>\r\n     </g>\r\n     <g id=\"text_8\">\r\n      <!-- 4000 -->\r\n      <g transform=\"translate(13.5625 204.975037)scale(0.1 -0.1)\">\r\n       <use xlink:href=\"#DejaVuSans-52\"/>\r\n       <use x=\"63.623047\" xlink:href=\"#DejaVuSans-48\"/>\r\n       <use x=\"127.246094\" xlink:href=\"#DejaVuSans-48\"/>\r\n       <use x=\"190.869141\" xlink:href=\"#DejaVuSans-48\"/>\r\n      </g>\r\n     </g>\r\n    </g>\r\n    <g id=\"ytick_2\">\r\n     <g id=\"line2d_30\">\r\n      <g>\r\n       <use style=\"stroke:#000000;stroke-width:0.8;\" x=\"46.0125\" xlink:href=\"#m46cc533396\" y=\"169.479718\"/>\r\n      </g>\r\n     </g>\r\n     <g id=\"text_9\">\r\n      <!-- 6000 -->\r\n      <g transform=\"translate(13.5625 173.278937)scale(0.1 -0.1)\">\r\n       <defs>\r\n        <path d=\"M 33.015625 40.375 \r\nQ 26.375 40.375 22.484375 35.828125 \r\nQ 18.609375 31.296875 18.609375 23.390625 \r\nQ 18.609375 15.53125 22.484375 10.953125 \r\nQ 26.375 6.390625 33.015625 6.390625 \r\nQ 39.65625 6.390625 43.53125 10.953125 \r\nQ 47.40625 15.53125 47.40625 23.390625 \r\nQ 47.40625 31.296875 43.53125 35.828125 \r\nQ 39.65625 40.375 33.015625 40.375 \r\nz\r\nM 52.59375 71.296875 \r\nL 52.59375 62.3125 \r\nQ 48.875 64.0625 45.09375 64.984375 \r\nQ 41.3125 65.921875 37.59375 65.921875 \r\nQ 27.828125 65.921875 22.671875 59.328125 \r\nQ 17.53125 52.734375 16.796875 39.40625 \r\nQ 19.671875 43.65625 24.015625 45.921875 \r\nQ 28.375 48.1875 33.59375 48.1875 \r\nQ 44.578125 48.1875 50.953125 41.515625 \r\nQ 57.328125 34.859375 57.328125 23.390625 \r\nQ 57.328125 12.15625 50.6875 5.359375 \r\nQ 44.046875 -1.421875 33.015625 -1.421875 \r\nQ 20.359375 -1.421875 13.671875 8.265625 \r\nQ 6.984375 17.96875 6.984375 36.375 \r\nQ 6.984375 53.65625 15.1875 63.9375 \r\nQ 23.390625 74.21875 37.203125 74.21875 \r\nQ 40.921875 74.21875 44.703125 73.484375 \r\nQ 48.484375 72.75 52.59375 71.296875 \r\nz\r\n\" id=\"DejaVuSans-54\"/>\r\n       </defs>\r\n       <use xlink:href=\"#DejaVuSans-54\"/>\r\n       <use x=\"63.623047\" xlink:href=\"#DejaVuSans-48\"/>\r\n       <use x=\"127.246094\" xlink:href=\"#DejaVuSans-48\"/>\r\n       <use x=\"190.869141\" xlink:href=\"#DejaVuSans-48\"/>\r\n      </g>\r\n     </g>\r\n    </g>\r\n    <g id=\"ytick_3\">\r\n     <g id=\"line2d_31\">\r\n      <g>\r\n       <use style=\"stroke:#000000;stroke-width:0.8;\" x=\"46.0125\" xlink:href=\"#m46cc533396\" y=\"137.783619\"/>\r\n      </g>\r\n     </g>\r\n     <g id=\"text_10\">\r\n      <!-- 8000 -->\r\n      <g transform=\"translate(13.5625 141.582837)scale(0.1 -0.1)\">\r\n       <defs>\r\n        <path d=\"M 31.78125 34.625 \r\nQ 24.75 34.625 20.71875 30.859375 \r\nQ 16.703125 27.09375 16.703125 20.515625 \r\nQ 16.703125 13.921875 20.71875 10.15625 \r\nQ 24.75 6.390625 31.78125 6.390625 \r\nQ 38.8125 6.390625 42.859375 10.171875 \r\nQ 46.921875 13.96875 46.921875 20.515625 \r\nQ 46.921875 27.09375 42.890625 30.859375 \r\nQ 38.875 34.625 31.78125 34.625 \r\nz\r\nM 21.921875 38.8125 \r\nQ 15.578125 40.375 12.03125 44.71875 \r\nQ 8.5 49.078125 8.5 55.328125 \r\nQ 8.5 64.0625 14.71875 69.140625 \r\nQ 20.953125 74.21875 31.78125 74.21875 \r\nQ 42.671875 74.21875 48.875 69.140625 \r\nQ 55.078125 64.0625 55.078125 55.328125 \r\nQ 55.078125 49.078125 51.53125 44.71875 \r\nQ 48 40.375 41.703125 38.8125 \r\nQ 48.828125 37.15625 52.796875 32.3125 \r\nQ 56.78125 27.484375 56.78125 20.515625 \r\nQ 56.78125 9.90625 50.3125 4.234375 \r\nQ 43.84375 -1.421875 31.78125 -1.421875 \r\nQ 19.734375 -1.421875 13.25 4.234375 \r\nQ 6.78125 9.90625 6.78125 20.515625 \r\nQ 6.78125 27.484375 10.78125 32.3125 \r\nQ 14.796875 37.15625 21.921875 38.8125 \r\nz\r\nM 18.3125 54.390625 \r\nQ 18.3125 48.734375 21.84375 45.5625 \r\nQ 25.390625 42.390625 31.78125 42.390625 \r\nQ 38.140625 42.390625 41.71875 45.5625 \r\nQ 45.3125 48.734375 45.3125 54.390625 \r\nQ 45.3125 60.0625 41.71875 63.234375 \r\nQ 38.140625 66.40625 31.78125 66.40625 \r\nQ 25.390625 66.40625 21.84375 63.234375 \r\nQ 18.3125 60.0625 18.3125 54.390625 \r\nz\r\n\" id=\"DejaVuSans-56\"/>\r\n       </defs>\r\n       <use xlink:href=\"#DejaVuSans-56\"/>\r\n       <use x=\"63.623047\" xlink:href=\"#DejaVuSans-48\"/>\r\n       <use x=\"127.246094\" xlink:href=\"#DejaVuSans-48\"/>\r\n       <use x=\"190.869141\" xlink:href=\"#DejaVuSans-48\"/>\r\n      </g>\r\n     </g>\r\n    </g>\r\n    <g id=\"ytick_4\">\r\n     <g id=\"line2d_32\">\r\n      <g>\r\n       <use style=\"stroke:#000000;stroke-width:0.8;\" x=\"46.0125\" xlink:href=\"#m46cc533396\" y=\"106.087519\"/>\r\n      </g>\r\n     </g>\r\n     <g id=\"text_11\">\r\n      <!-- 10000 -->\r\n      <g transform=\"translate(7.2 109.886737)scale(0.1 -0.1)\">\r\n       <use xlink:href=\"#DejaVuSans-49\"/>\r\n       <use x=\"63.623047\" xlink:href=\"#DejaVuSans-48\"/>\r\n       <use x=\"127.246094\" xlink:href=\"#DejaVuSans-48\"/>\r\n       <use x=\"190.869141\" xlink:href=\"#DejaVuSans-48\"/>\r\n       <use x=\"254.492188\" xlink:href=\"#DejaVuSans-48\"/>\r\n      </g>\r\n     </g>\r\n    </g>\r\n    <g id=\"ytick_5\">\r\n     <g id=\"line2d_33\">\r\n      <g>\r\n       <use style=\"stroke:#000000;stroke-width:0.8;\" x=\"46.0125\" xlink:href=\"#m46cc533396\" y=\"74.391419\"/>\r\n      </g>\r\n     </g>\r\n     <g id=\"text_12\">\r\n      <!-- 12000 -->\r\n      <g transform=\"translate(7.2 78.190637)scale(0.1 -0.1)\">\r\n       <use xlink:href=\"#DejaVuSans-49\"/>\r\n       <use x=\"63.623047\" xlink:href=\"#DejaVuSans-50\"/>\r\n       <use x=\"127.246094\" xlink:href=\"#DejaVuSans-48\"/>\r\n       <use x=\"190.869141\" xlink:href=\"#DejaVuSans-48\"/>\r\n       <use x=\"254.492188\" xlink:href=\"#DejaVuSans-48\"/>\r\n      </g>\r\n     </g>\r\n    </g>\r\n    <g id=\"ytick_6\">\r\n     <g id=\"line2d_34\">\r\n      <g>\r\n       <use style=\"stroke:#000000;stroke-width:0.8;\" x=\"46.0125\" xlink:href=\"#m46cc533396\" y=\"42.695319\"/>\r\n      </g>\r\n     </g>\r\n     <g id=\"text_13\">\r\n      <!-- 14000 -->\r\n      <g transform=\"translate(7.2 46.494537)scale(0.1 -0.1)\">\r\n       <use xlink:href=\"#DejaVuSans-49\"/>\r\n       <use x=\"63.623047\" xlink:href=\"#DejaVuSans-52\"/>\r\n       <use x=\"127.246094\" xlink:href=\"#DejaVuSans-48\"/>\r\n       <use x=\"190.869141\" xlink:href=\"#DejaVuSans-48\"/>\r\n       <use x=\"254.492188\" xlink:href=\"#DejaVuSans-48\"/>\r\n      </g>\r\n     </g>\r\n    </g>\r\n    <g id=\"ytick_7\">\r\n     <g id=\"line2d_35\">\r\n      <g>\r\n       <use style=\"stroke:#000000;stroke-width:0.8;\" x=\"46.0125\" xlink:href=\"#m46cc533396\" y=\"10.999219\"/>\r\n      </g>\r\n     </g>\r\n     <g id=\"text_14\">\r\n      <!-- 16000 -->\r\n      <g transform=\"translate(7.2 14.798437)scale(0.1 -0.1)\">\r\n       <use xlink:href=\"#DejaVuSans-49\"/>\r\n       <use x=\"63.623047\" xlink:href=\"#DejaVuSans-54\"/>\r\n       <use x=\"127.246094\" xlink:href=\"#DejaVuSans-48\"/>\r\n       <use x=\"190.869141\" xlink:href=\"#DejaVuSans-48\"/>\r\n       <use x=\"254.492188\" xlink:href=\"#DejaVuSans-48\"/>\r\n      </g>\r\n     </g>\r\n    </g>\r\n   </g>\r\n   <g id=\"line2d_36\">\r\n    <path clip-path=\"url(#pce76fd654c)\" d=\"M 46.0125 209.749613 \r\nL 47.045833 209.765461 \r\nL 49.1125 192.237518 \r\nL 50.145833 197.673399 \r\nL 51.179167 192.7922 \r\nL 52.2125 193.790627 \r\nL 53.245833 199.004636 \r\nL 54.279167 199.178964 \r\nL 55.3125 197.071173 \r\nL 56.345833 197.372286 \r\nL 57.379167 186.342044 \r\nL 58.4125 216.532579 \r\nL 59.445833 212.887527 \r\nL 60.479167 198.64013 \r\nL 61.5125 195.201104 \r\nL 62.545833 196.310467 \r\nL 63.579167 190.145576 \r\nL 64.6125 193.917412 \r\nL 65.645833 193.93326 \r\nL 66.679167 195.407128 \r\nL 67.7125 197.435679 \r\nL 68.745833 193.251793 \r\nL 69.779167 185.739818 \r\nL 70.8125 215.835265 \r\nL 71.845833 211.049154 \r\nL 72.879167 194.155132 \r\nL 73.9125 197.039477 \r\nL 74.945833 193.885715 \r\nL 75.979167 185.565489 \r\nL 77.0125 196.04105 \r\nL 78.045833 189.78107 \r\nL 79.079167 195.248648 \r\nL 80.1125 197.245502 \r\nL 81.145833 188.750947 \r\nL 82.179167 185.787362 \r\nL 83.2125 211.16009 \r\nL 84.245833 209.353412 \r\nL 85.279167 196.912693 \r\nL 86.3125 201.270907 \r\nL 87.345833 189.844463 \r\nL 88.379167 185.739818 \r\nL 89.4125 197.641703 \r\nL 90.445833 185.327768 \r\nL 91.479167 197.451527 \r\nL 93.545833 187.689128 \r\nL 94.579167 188.085329 \r\nL 95.6125 205.946081 \r\nL 97.679167 197.023629 \r\nL 98.7125 191.365875 \r\nL 99.745833 181.857045 \r\nL 100.779167 187.926849 \r\nL 101.8125 186.262803 \r\nL 102.845833 184.345189 \r\nL 103.879167 195.39128 \r\nL 104.9125 185.137592 \r\nL 105.945833 187.704976 \r\nL 106.979167 183.790508 \r\nL 108.0125 205.011046 \r\nL 109.045833 203.949227 \r\nL 110.079167 193.980804 \r\nL 111.1125 191.112307 \r\nL 112.145833 181.999678 \r\nL 113.179167 184.42443 \r\nL 114.2125 181.666869 \r\nL 115.245833 184.788935 \r\nL 116.279167 185.80321 \r\nL 117.3125 179.907735 \r\nL 118.345833 188.006089 \r\nL 119.379167 170.0344 \r\nL 120.4125 204.408821 \r\nL 121.445833 200.874705 \r\nL 122.479167 186.94427 \r\nL 123.5125 183.901444 \r\nL 124.545833 181.571781 \r\nL 125.579167 178.24369 \r\nL 126.6125 178.433867 \r\nL 127.645833 183.632027 \r\nL 128.679167 177.166023 \r\nL 129.7125 176.088355 \r\nL 130.745833 179.844343 \r\nL 131.779167 164.947176 \r\nL 132.8125 200.668681 \r\nL 133.845833 194.281917 \r\nL 134.879167 177.736552 \r\nL 135.9125 177.67316 \r\nL 136.945833 176.024963 \r\nL 137.979167 166.690462 \r\nL 139.0125 175.486129 \r\nL 140.045833 171.238852 \r\nL 141.079167 172.205583 \r\nL 142.1125 171.872774 \r\nL 143.145833 166.627069 \r\nL 144.179167 157.260872 \r\nL 145.2125 197.324742 \r\nL 146.245833 186.088475 \r\nL 147.279167 169.352934 \r\nL 148.3125 179.733407 \r\nL 149.345833 162.585817 \r\nL 150.379167 158.813981 \r\nL 151.4125 175.248409 \r\nL 152.445833 159.495447 \r\nL 153.479167 171.270548 \r\nL 154.5125 164.376646 \r\nL 155.545833 161.238732 \r\nL 156.579167 158.734741 \r\nL 157.6125 184.028228 \r\nL 158.645833 181.90459 \r\nL 159.679167 171.17546 \r\nL 160.7125 171.159612 \r\nL 161.745833 156.817127 \r\nL 162.779167 158.909069 \r\nL 163.8125 163.552548 \r\nL 164.845833 156.167356 \r\nL 165.879167 176.21514 \r\nL 166.9125 160.842531 \r\nL 167.945833 156.975607 \r\nL 168.979167 150.779019 \r\nL 170.0125 183.473547 \r\nL 171.045833 178.32293 \r\nL 172.079167 164.138926 \r\nL 173.1125 161.159492 \r\nL 174.145833 150.20849 \r\nL 175.179167 157.419352 \r\nL 176.2125 154.297287 \r\nL 177.245833 152.522305 \r\nL 178.279167 167.134207 \r\nL 179.3125 154.83612 \r\nL 180.345833 158.132515 \r\nL 181.379167 138.17982 \r\nL 182.4125 180.161304 \r\nL 183.445833 175.676306 \r\nL 184.479167 162.918626 \r\nL 185.5125 157.736313 \r\nL 186.545833 151.349549 \r\nL 187.579167 151.523878 \r\nL 188.6125 144.629976 \r\nL 189.645833 149.416087 \r\nL 190.679167 159.432055 \r\nL 191.7125 143.710789 \r\nL 192.745833 156.119812 \r\nL 193.779167 129.225672 \r\nL 194.8125 175.359345 \r\nL 195.845833 171.09622 \r\nL 196.879167 152.918506 \r\nL 197.9125 152.141952 \r\nL 198.945833 148.354268 \r\nL 199.979167 139.083159 \r\nL 201.0125 149.051582 \r\nL 202.045833 147.355841 \r\nL 203.079167 149.527024 \r\nL 204.1125 149.384391 \r\nL 205.145833 142.046744 \r\nL 206.179167 121.016382 \r\nL 207.2125 176.500405 \r\nL 208.245833 165.723731 \r\nL 209.279167 142.173528 \r\nL 210.3125 149.479479 \r\nL 211.345833 133.964238 \r\nL 212.379167 125.786645 \r\nL 213.4125 148.053155 \r\nL 214.445833 129.922986 \r\nL 215.479167 141.888263 \r\nL 216.5125 142.379553 \r\nL 217.545833 133.86915 \r\nL 218.579167 123.488677 \r\nL 219.6125 168.433747 \r\nL 220.645833 160.129369 \r\nL 221.679167 139.003918 \r\nL 222.7125 148.322572 \r\nL 223.745833 124.423712 \r\nL 224.779167 116.753256 \r\nL 225.8125 141.080013 \r\nL 226.845833 119.463273 \r\nL 227.879167 137.197241 \r\nL 228.9125 127.640867 \r\nL 229.945833 119.907018 \r\nL 230.979167 113.298381 \r\nL 232.0125 159.542991 \r\nL 233.045833 157.704617 \r\nL 234.079167 134.693249 \r\nL 235.1125 140.509483 \r\nL 236.145833 112.90218 \r\nL 237.179167 114.265112 \r\nL 238.2125 128.148004 \r\nL 239.245833 113.330077 \r\nL 240.279167 135.834308 \r\nL 241.3125 111.650184 \r\nL 242.345833 115.754829 \r\nL 243.379167 105.057395 \r\nL 244.4125 152.1578 \r\nL 245.445833 145.97706 \r\nL 246.479167 131.99908 \r\nL 247.5125 123.599614 \r\nL 248.545833 109.352217 \r\nL 249.579167 106.452024 \r\nL 250.6125 113.171597 \r\nL 251.645833 115.99255 \r\nL 252.679167 118.369757 \r\nL 253.7125 106.911617 \r\nL 254.745833 125.770797 \r\nL 255.779167 92.791005 \r\nL 256.8125 149.416087 \r\nL 257.845833 144.471496 \r\nL 258.879167 126.88016 \r\nL 259.9125 119.368184 \r\nL 260.945833 116.087638 \r\nL 261.979167 103.440894 \r\nL 263.0125 113.900607 \r\nL 264.045833 123.155868 \r\nL 265.079167 117.624899 \r\nL 266.1125 120.746965 \r\nL 267.145833 122.743819 \r\nL 268.179167 92.727612 \r\nL 269.2125 160.636507 \r\nL 270.245833 146.008756 \r\nL 271.279167 114.407745 \r\nL 272.3125 115.215995 \r\nL 273.345833 116.372903 \r\nL 274.379167 97.339395 \r\nL 275.4125 120.715269 \r\nL 276.445833 117.609051 \r\nL 277.479167 115.279388 \r\nL 278.5125 115.390324 \r\nL 279.545833 108.211157 \r\nL 280.579167 83.028606 \r\nL 281.6125 155.200625 \r\nL 282.645833 137.561746 \r\nL 283.679167 108.749991 \r\nL 284.7125 117.482266 \r\nL 285.745833 106.610504 \r\nL 286.779167 84.787739 \r\nL 287.8125 120.255675 \r\nL 288.845833 98.654783 \r\nL 289.879167 104.740434 \r\nL 290.9125 112.236562 \r\nL 291.945833 100.889358 \r\nL 292.979167 82.58486 \r\nL 294.0125 145.929516 \r\nL 296.079167 110.699301 \r\nL 297.1125 115.231843 \r\nL 298.145833 84.819436 \r\nL 299.179167 85.897103 \r\nL 300.2125 108.543966 \r\nL 301.245833 87.656236 \r\nL 302.279167 113.504406 \r\nL 303.3125 94.138089 \r\nL 304.345833 90.984327 \r\nL 305.379167 75.627567 \r\nL 306.4125 131.523639 \r\nL 307.445833 123.71055 \r\nL 308.479167 104.344233 \r\nL 309.5125 98.27443 \r\nL 310.545833 70.936544 \r\nL 311.579167 84.137969 \r\nL 312.6125 87.291731 \r\nL 313.645833 82.91767 \r\nL 314.679167 98.258582 \r\nL 315.7125 81.681522 \r\nL 316.745833 88.052438 \r\nL 317.779167 63.155151 \r\nL 318.8125 128.956255 \r\nL 319.845833 121.000534 \r\nL 321.9125 90.603974 \r\nL 322.945833 77.687813 \r\nL 323.979167 75.912831 \r\nL 325.0125 90.79415 \r\nL 326.045833 90.540582 \r\nL 327.079167 92.965333 \r\nL 328.1125 77.291612 \r\nL 329.145833 98.638935 \r\nL 330.179167 53.630473 \r\nL 331.2125 131.444399 \r\nL 332.245833 120.952989 \r\nL 333.279167 94.645226 \r\nL 335.345833 82.188659 \r\nL 336.379167 60.064781 \r\nL 337.4125 76.467513 \r\nL 338.445833 86.689505 \r\nL 339.479167 74.042762 \r\nL 340.5125 74.660835 \r\nL 341.545833 82.220355 \r\nL 342.579167 39.795126 \r\nL 343.6125 127.514082 \r\nL 345.679167 72.695677 \r\nL 346.7125 83.583288 \r\nL 347.745833 70.619583 \r\nL 348.779167 47.750847 \r\nL 349.8125 91.031871 \r\nL 350.845833 63.297784 \r\nL 351.879167 70.080749 \r\nL 352.9125 75.896983 \r\nL 353.945833 58.2898 \r\nL 354.979167 36.02329 \r\nL 356.0125 121.254102 \r\nL 357.045833 98.9242 \r\nL 358.079167 66.768507 \r\nL 359.1125 82.458076 \r\nL 360.145833 49.906181 \r\nL 361.179167 31.126242 \r\nL 362.2125 83.64668 \r\nL 363.245833 52.172453 \r\nL 364.279167 75.865287 \r\nL 365.3125 63.123455 \r\nL 366.345833 54.407028 \r\nL 367.379167 38.495585 \r\nL 368.4125 112.997268 \r\nL 369.445833 99.510578 \r\nL 370.479167 63.5672 \r\nL 371.5125 75.675111 \r\nL 372.545833 40.508288 \r\nL 373.579167 33.455906 \r\nL 374.6125 64.248667 \r\nL 375.645833 38.62237 \r\nL 376.679167 68.115591 \r\nL 377.7125 44.058251 \r\nL 378.745833 39.937758 \r\nL 379.779167 18.859852 \r\nL 380.8125 94.708619 \r\nL 380.8125 94.708619 \r\n\" style=\"fill:none;stroke:#1f77b4;stroke-linecap:square;stroke-width:1.5;\"/>\r\n   </g>\r\n   <g id=\"patch_3\">\r\n    <path d=\"M 46.0125 226.416215 \r\nL 46.0125 8.976215 \r\n\" style=\"fill:none;stroke:#000000;stroke-linecap:square;stroke-linejoin:miter;stroke-width:0.8;\"/>\r\n   </g>\r\n   <g id=\"patch_4\">\r\n    <path d=\"M 380.8125 226.416215 \r\nL 380.8125 8.976215 \r\n\" style=\"fill:none;stroke:#000000;stroke-linecap:square;stroke-linejoin:miter;stroke-width:0.8;\"/>\r\n   </g>\r\n   <g id=\"patch_5\">\r\n    <path d=\"M 46.0125 226.416215 \r\nL 380.8125 226.416215 \r\n\" style=\"fill:none;stroke:#000000;stroke-linecap:square;stroke-linejoin:miter;stroke-width:0.8;\"/>\r\n   </g>\r\n   <g id=\"patch_6\">\r\n    <path d=\"M 46.0125 8.976215 \r\nL 380.8125 8.976215 \r\n\" style=\"fill:none;stroke:#000000;stroke-linecap:square;stroke-linejoin:miter;stroke-width:0.8;\"/>\r\n   </g>\r\n   <g id=\"legend_1\">\r\n    <g id=\"patch_7\">\r\n     <path d=\"M 53.0125 31.65434 \r\nL 179.139063 31.65434 \r\nQ 181.139063 31.65434 181.139063 29.65434 \r\nL 181.139063 15.976215 \r\nQ 181.139063 13.976215 179.139063 13.976215 \r\nL 53.0125 13.976215 \r\nQ 51.0125 13.976215 51.0125 15.976215 \r\nL 51.0125 29.65434 \r\nQ 51.0125 31.65434 53.0125 31.65434 \r\nz\r\n\" style=\"fill:#ffffff;opacity:0.8;stroke:#cccccc;stroke-linejoin:miter;\"/>\r\n    </g>\r\n    <g id=\"line2d_37\">\r\n     <path d=\"M 55.0125 22.074653 \r\nL 75.0125 22.074653 \r\n\" style=\"fill:none;stroke:#1f77b4;stroke-linecap:square;stroke-width:1.5;\"/>\r\n    </g>\r\n    <g id=\"line2d_38\"/>\r\n    <g id=\"text_15\">\r\n     <!-- S4248SM144NCEN -->\r\n     <g transform=\"translate(83.0125 25.574653)scale(0.1 -0.1)\">\r\n      <defs>\r\n       <path d=\"M 53.515625 70.515625 \r\nL 53.515625 60.890625 \r\nQ 47.90625 63.578125 42.921875 64.890625 \r\nQ 37.9375 66.21875 33.296875 66.21875 \r\nQ 25.25 66.21875 20.875 63.09375 \r\nQ 16.5 59.96875 16.5 54.203125 \r\nQ 16.5 49.359375 19.40625 46.890625 \r\nQ 22.3125 44.4375 30.421875 42.921875 \r\nL 36.375 41.703125 \r\nQ 47.40625 39.59375 52.65625 34.296875 \r\nQ 57.90625 29 57.90625 20.125 \r\nQ 57.90625 9.515625 50.796875 4.046875 \r\nQ 43.703125 -1.421875 29.984375 -1.421875 \r\nQ 24.8125 -1.421875 18.96875 -0.25 \r\nQ 13.140625 0.921875 6.890625 3.21875 \r\nL 6.890625 13.375 \r\nQ 12.890625 10.015625 18.65625 8.296875 \r\nQ 24.421875 6.59375 29.984375 6.59375 \r\nQ 38.421875 6.59375 43.015625 9.90625 \r\nQ 47.609375 13.234375 47.609375 19.390625 \r\nQ 47.609375 24.75 44.3125 27.78125 \r\nQ 41.015625 30.8125 33.5 32.328125 \r\nL 27.484375 33.5 \r\nQ 16.453125 35.6875 11.515625 40.375 \r\nQ 6.59375 45.0625 6.59375 53.421875 \r\nQ 6.59375 63.09375 13.40625 68.65625 \r\nQ 20.21875 74.21875 32.171875 74.21875 \r\nQ 37.3125 74.21875 42.625 73.28125 \r\nQ 47.953125 72.359375 53.515625 70.515625 \r\nz\r\n\" id=\"DejaVuSans-83\"/>\r\n       <path d=\"M 9.8125 72.90625 \r\nL 24.515625 72.90625 \r\nL 43.109375 23.296875 \r\nL 61.8125 72.90625 \r\nL 76.515625 72.90625 \r\nL 76.515625 0 \r\nL 66.890625 0 \r\nL 66.890625 64.015625 \r\nL 48.09375 14.015625 \r\nL 38.1875 14.015625 \r\nL 19.390625 64.015625 \r\nL 19.390625 0 \r\nL 9.8125 0 \r\nz\r\n\" id=\"DejaVuSans-77\"/>\r\n       <path d=\"M 9.8125 72.90625 \r\nL 23.09375 72.90625 \r\nL 55.421875 11.921875 \r\nL 55.421875 72.90625 \r\nL 64.984375 72.90625 \r\nL 64.984375 0 \r\nL 51.703125 0 \r\nL 19.390625 60.984375 \r\nL 19.390625 0 \r\nL 9.8125 0 \r\nz\r\n\" id=\"DejaVuSans-78\"/>\r\n       <path d=\"M 64.40625 67.28125 \r\nL 64.40625 56.890625 \r\nQ 59.421875 61.53125 53.78125 63.8125 \r\nQ 48.140625 66.109375 41.796875 66.109375 \r\nQ 29.296875 66.109375 22.65625 58.46875 \r\nQ 16.015625 50.828125 16.015625 36.375 \r\nQ 16.015625 21.96875 22.65625 14.328125 \r\nQ 29.296875 6.6875 41.796875 6.6875 \r\nQ 48.140625 6.6875 53.78125 8.984375 \r\nQ 59.421875 11.28125 64.40625 15.921875 \r\nL 64.40625 5.609375 \r\nQ 59.234375 2.09375 53.4375 0.328125 \r\nQ 47.65625 -1.421875 41.21875 -1.421875 \r\nQ 24.65625 -1.421875 15.125 8.703125 \r\nQ 5.609375 18.84375 5.609375 36.375 \r\nQ 5.609375 53.953125 15.125 64.078125 \r\nQ 24.65625 74.21875 41.21875 74.21875 \r\nQ 47.75 74.21875 53.53125 72.484375 \r\nQ 59.328125 70.75 64.40625 67.28125 \r\nz\r\n\" id=\"DejaVuSans-67\"/>\r\n      </defs>\r\n      <use xlink:href=\"#DejaVuSans-83\"/>\r\n      <use x=\"63.476562\" xlink:href=\"#DejaVuSans-52\"/>\r\n      <use x=\"127.099609\" xlink:href=\"#DejaVuSans-50\"/>\r\n      <use x=\"190.722656\" xlink:href=\"#DejaVuSans-52\"/>\r\n      <use x=\"254.345703\" xlink:href=\"#DejaVuSans-56\"/>\r\n      <use x=\"317.96875\" xlink:href=\"#DejaVuSans-83\"/>\r\n      <use x=\"381.445312\" xlink:href=\"#DejaVuSans-77\"/>\r\n      <use x=\"467.724609\" xlink:href=\"#DejaVuSans-49\"/>\r\n      <use x=\"531.347656\" xlink:href=\"#DejaVuSans-52\"/>\r\n      <use x=\"594.970703\" xlink:href=\"#DejaVuSans-52\"/>\r\n      <use x=\"658.59375\" xlink:href=\"#DejaVuSans-78\"/>\r\n      <use x=\"733.398438\" xlink:href=\"#DejaVuSans-67\"/>\r\n      <use x=\"803.222656\" xlink:href=\"#DejaVuSans-69\"/>\r\n      <use x=\"866.40625\" xlink:href=\"#DejaVuSans-78\"/>\r\n     </g>\r\n    </g>\r\n   </g>\r\n  </g>\r\n </g>\r\n <defs>\r\n  <clipPath id=\"pce76fd654c\">\r\n   <rect height=\"217.44\" width=\"334.8\" x=\"46.0125\" y=\"8.976215\"/>\r\n  </clipPath>\r\n </defs>\r\n</svg>\r\n",
      "image/png": "[encoded data removed]"
     },
     "metadata": {
      "needs_background": "light"
     }
    }
   ],
   "source": [
    "df.plot()"
   ]
  },
  {
   "cell_type": "code",
   "execution_count": 8,
   "metadata": {},
   "outputs": [
    {
     "output_type": "execute_result",
     "data": {
      "text/plain": [
       "325"
      ]
     },
     "metadata": {},
     "execution_count": 8
    }
   ],
   "source": [
    "y = df['S4248SM144NCEN'].values.astype(float)\n",
    "len(y)"
   ]
  },
  {
   "cell_type": "code",
   "execution_count": 9,
   "metadata": {},
   "outputs": [],
   "source": [
    "test_size = 12"
   ]
  },
  {
   "cell_type": "code",
   "execution_count": 10,
   "metadata": {},
   "outputs": [],
   "source": [
    "train_set = y[:-12]\n",
    "test_set = y[-12:]"
   ]
  },
  {
   "cell_type": "code",
   "execution_count": 12,
   "metadata": {},
   "outputs": [
    {
     "output_type": "execute_result",
     "data": {
      "text/plain": [
       "313"
      ]
     },
     "metadata": {},
     "execution_count": 12
    }
   ],
   "source": [
    "len(train_set)"
   ]
  },
  {
   "cell_type": "code",
   "execution_count": 13,
   "metadata": {},
   "outputs": [
    {
     "output_type": "execute_result",
     "data": {
      "text/plain": [
       "12"
      ]
     },
     "metadata": {},
     "execution_count": 13
    }
   ],
   "source": [
    "len(test_set)"
   ]
  },
  {
   "cell_type": "code",
   "execution_count": 14,
   "metadata": {},
   "outputs": [],
   "source": [
    "from sklearn.preprocessing import MinMaxScaler"
   ]
  },
  {
   "cell_type": "code",
   "execution_count": 15,
   "metadata": {},
   "outputs": [],
   "source": [
    "scaler = MinMaxScaler(feature_range=(-1, 1))"
   ]
  },
  {
   "cell_type": "code",
   "execution_count": 16,
   "metadata": {},
   "outputs": [],
   "source": [
    "train_norm = scaler.fit_transform(train_set.reshape(-1, 1))"
   ]
  },
  {
   "cell_type": "code",
   "execution_count": 18,
   "metadata": {},
   "outputs": [
    {
     "output_type": "execute_result",
     "data": {
      "text/plain": [
       "array([[-0.92683135],\n",
       "       [-0.92700231],\n",
       "       [-0.83400291],\n",
       "       [-0.73792632],\n",
       "       [-0.79656381]])"
      ]
     },
     "metadata": {},
     "execution_count": 18
    }
   ],
   "source": [
    "train_norm[:5]"
   ]
  },
  {
   "cell_type": "code",
   "execution_count": 19,
   "metadata": {},
   "outputs": [],
   "source": [
    "train_norm = torch.FloatTensor(train_norm).view(-1)"
   ]
  },
  {
   "cell_type": "code",
   "execution_count": 21,
   "metadata": {},
   "outputs": [
    {
     "output_type": "execute_result",
     "data": {
      "text/plain": [
       "tensor([-0.9268, -0.9270, -0.8340, -0.7379, -0.7966])"
      ]
     },
     "metadata": {},
     "execution_count": 21
    }
   ],
   "source": [
    "train_norm[:5]"
   ]
  },
  {
   "cell_type": "code",
   "execution_count": 22,
   "metadata": {},
   "outputs": [],
   "source": [
    "wd_sz = 12"
   ]
  },
  {
   "cell_type": "code",
   "execution_count": 34,
   "metadata": {},
   "outputs": [],
   "source": [
    "def input_data(seq, ws):\n",
    "    out = []\n",
    "\n",
    "    for i in range(len(seq) - ws):\n",
    "        window = seq[i:i + ws]\n",
    "        label = seq[i + ws:i + ws + 1]\n",
    "        out.append((window, label))\n",
    "    \n",
    "    return out"
   ]
  },
  {
   "cell_type": "code",
   "execution_count": 35,
   "metadata": {},
   "outputs": [],
   "source": [
    "train_data = input_data(train_norm, wd_sz)"
   ]
  },
  {
   "cell_type": "code",
   "execution_count": 36,
   "metadata": {},
   "outputs": [
    {
     "output_type": "execute_result",
     "data": {
      "text/plain": [
       "301"
      ]
     },
     "metadata": {},
     "execution_count": 36
    }
   ],
   "source": [
    "len(train_data)"
   ]
  },
  {
   "cell_type": "code",
   "execution_count": 37,
   "metadata": {},
   "outputs": [],
   "source": [
    "class LSTMnetwork(nn.Module):\n",
    "    def __init__(self,input_size=1,hidden_size=100,output_size=1):\n",
    "        super().__init__()\n",
    "        self.hidden_size = hidden_size\n",
    "        \n",
    "        # Add an LSTM layer:\n",
    "        self.lstm = nn.LSTM(input_size,hidden_size)\n",
    "        \n",
    "        # Add a fully-connected layer:\n",
    "        self.linear = nn.Linear(hidden_size,output_size)\n",
    "        \n",
    "        # Initialize h0 and c0:\n",
    "        self.hidden = (torch.zeros(1,1,self.hidden_size),\n",
    "                       torch.zeros(1,1,self.hidden_size))\n",
    "\n",
    "    def forward(self,seq):\n",
    "        lstm_out, self.hidden = self.lstm(\n",
    "            seq.view(len(seq),1,-1), self.hidden)\n",
    "        pred = self.linear(lstm_out.view(len(seq),-1))\n",
    "        return pred[-1]  # we only want the last value"
   ]
  },
  {
   "cell_type": "code",
   "execution_count": 38,
   "metadata": {},
   "outputs": [
    {
     "output_type": "execute_result",
     "data": {
      "text/plain": [
       "LSTMnetwork(\n",
       "  (lstm): LSTM(1, 100)\n",
       "  (linear): Linear(in_features=100, out_features=1, bias=True)\n",
       ")"
      ]
     },
     "metadata": {},
     "execution_count": 38
    }
   ],
   "source": [
    "model = LSTMnetwork()\n",
    "model"
   ]
  },
  {
   "cell_type": "code",
   "execution_count": 31,
   "metadata": {},
   "outputs": [],
   "source": [
    "criterion = nn.MSELoss()\n",
    "optimizer = torch.optim.SGD(params=model.parameters(), lr=0.01)"
   ]
  },
  {
   "cell_type": "code",
   "execution_count": 32,
   "metadata": {},
   "outputs": [
    {
     "output_type": "stream",
     "name": "stdout",
     "text": [
      "400\n40000\n400\n400\n100\n1\n"
     ]
    }
   ],
   "source": [
    "for param in model.parameters():\n",
    "    print(param.numel())"
   ]
  },
  {
   "cell_type": "code",
   "execution_count": 39,
   "metadata": {},
   "outputs": [
    {
     "output_type": "stream",
     "name": "stdout",
     "text": [
      "Epoch:  1 Loss: 0.03211827\n",
      "Epoch:  2 Loss: 0.03211827\n",
      "Epoch:  3 Loss: 0.03211827\n",
      "Epoch:  4 Loss: 0.03211827\n",
      "Epoch:  5 Loss: 0.03211827\n",
      "Epoch:  6 Loss: 0.03211827\n",
      "Epoch:  7 Loss: 0.03211827\n",
      "Epoch:  8 Loss: 0.03211827\n",
      "Epoch:  9 Loss: 0.03211827\n",
      "Epoch: 10 Loss: 0.03211827\n",
      "Epoch: 11 Loss: 0.03211827\n",
      "Epoch: 12 Loss: 0.03211827\n",
      "Epoch: 13 Loss: 0.03211827\n",
      "Epoch: 14 Loss: 0.03211827\n",
      "Epoch: 15 Loss: 0.03211827\n",
      "Epoch: 16 Loss: 0.03211827\n",
      "Epoch: 17 Loss: 0.03211827\n",
      "Epoch: 18 Loss: 0.03211827\n",
      "Epoch: 19 Loss: 0.03211827\n",
      "Epoch: 20 Loss: 0.03211827\n",
      "Epoch: 21 Loss: 0.03211827\n",
      "Epoch: 22 Loss: 0.03211827\n",
      "Epoch: 23 Loss: 0.03211827\n",
      "Epoch: 24 Loss: 0.03211827\n",
      "Epoch: 25 Loss: 0.03211827\n",
      "Epoch: 26 Loss: 0.03211827\n",
      "Epoch: 27 Loss: 0.03211827\n",
      "Epoch: 28 Loss: 0.03211827\n",
      "Epoch: 29 Loss: 0.03211827\n",
      "Epoch: 30 Loss: 0.03211827\n",
      "Epoch: 31 Loss: 0.03211827\n",
      "Epoch: 32 Loss: 0.03211827\n",
      "Epoch: 33 Loss: 0.03211827\n",
      "Epoch: 34 Loss: 0.03211827\n",
      "Epoch: 35 Loss: 0.03211827\n",
      "Epoch: 36 Loss: 0.03211827\n",
      "Epoch: 37 Loss: 0.03211827\n",
      "Epoch: 38 Loss: 0.03211827\n",
      "Epoch: 39 Loss: 0.03211827\n",
      "Epoch: 40 Loss: 0.03211827\n",
      "Epoch: 41 Loss: 0.03211827\n",
      "Epoch: 42 Loss: 0.03211827\n",
      "Epoch: 43 Loss: 0.03211827\n",
      "Epoch: 44 Loss: 0.03211827\n",
      "Epoch: 45 Loss: 0.03211827\n",
      "Epoch: 46 Loss: 0.03211827\n",
      "Epoch: 47 Loss: 0.03211827\n",
      "Epoch: 48 Loss: 0.03211827\n",
      "Epoch: 49 Loss: 0.03211827\n",
      "Epoch: 50 Loss: 0.03211827\n",
      "Epoch: 51 Loss: 0.03211827\n",
      "Epoch: 52 Loss: 0.03211827\n",
      "Epoch: 53 Loss: 0.03211827\n",
      "Epoch: 54 Loss: 0.03211827\n",
      "Epoch: 55 Loss: 0.03211827\n",
      "Epoch: 56 Loss: 0.03211827\n",
      "Epoch: 57 Loss: 0.03211827\n",
      "Epoch: 58 Loss: 0.03211827\n",
      "Epoch: 59 Loss: 0.03211827\n",
      "Epoch: 60 Loss: 0.03211827\n",
      "Epoch: 61 Loss: 0.03211827\n",
      "Epoch: 62 Loss: 0.03211827\n",
      "Epoch: 63 Loss: 0.03211827\n",
      "Epoch: 64 Loss: 0.03211827\n",
      "Epoch: 65 Loss: 0.03211827\n",
      "Epoch: 66 Loss: 0.03211827\n",
      "Epoch: 67 Loss: 0.03211827\n",
      "Epoch: 68 Loss: 0.03211827\n",
      "Epoch: 69 Loss: 0.03211827\n",
      "Epoch: 70 Loss: 0.03211827\n",
      "Epoch: 71 Loss: 0.03211827\n",
      "Epoch: 72 Loss: 0.03211827\n",
      "Epoch: 73 Loss: 0.03211827\n",
      "Epoch: 74 Loss: 0.03211827\n",
      "Epoch: 75 Loss: 0.03211827\n",
      "Epoch: 76 Loss: 0.03211827\n",
      "Epoch: 77 Loss: 0.03211827\n",
      "Epoch: 78 Loss: 0.03211827\n",
      "Epoch: 79 Loss: 0.03211827\n",
      "Epoch: 80 Loss: 0.03211827\n",
      "Epoch: 81 Loss: 0.03211827\n",
      "Epoch: 82 Loss: 0.03211827\n",
      "Epoch: 83 Loss: 0.03211827\n",
      "Epoch: 84 Loss: 0.03211827\n",
      "Epoch: 85 Loss: 0.03211827\n",
      "Epoch: 86 Loss: 0.03211827\n",
      "Epoch: 87 Loss: 0.03211827\n",
      "Epoch: 88 Loss: 0.03211827\n",
      "Epoch: 89 Loss: 0.03211827\n",
      "Epoch: 90 Loss: 0.03211827\n",
      "Epoch: 91 Loss: 0.03211827\n",
      "Epoch: 92 Loss: 0.03211827\n",
      "Epoch: 93 Loss: 0.03211827\n",
      "Epoch: 94 Loss: 0.03211827\n",
      "Epoch: 95 Loss: 0.03211827\n",
      "Epoch: 96 Loss: 0.03211827\n",
      "Epoch: 97 Loss: 0.03211827\n",
      "Epoch: 98 Loss: 0.03211827\n",
      "Epoch: 99 Loss: 0.03211827\n",
      "Epoch: 100 Loss: 0.03211827\n",
      "\n",
      "Duration: 138 seconds\n"
     ]
    }
   ],
   "source": [
    "epochs = 100\n",
    "\n",
    "import time\n",
    "start_time = time.time()\n",
    "\n",
    "for epoch in range(epochs):\n",
    "    \n",
    "    # extract the sequence & label from the training data\n",
    "    for seq, y_train in train_data:\n",
    "        \n",
    "        # reset the parameters and hidden states\n",
    "        optimizer.zero_grad()\n",
    "        model.hidden = (torch.zeros(1,1,model.hidden_size),\n",
    "                        torch.zeros(1,1,model.hidden_size))\n",
    "        \n",
    "        y_pred = model(seq)\n",
    "        \n",
    "        loss = criterion(y_pred, y_train)\n",
    "        loss.backward()\n",
    "        optimizer.step()\n",
    "        \n",
    "    # print training result\n",
    "    print(f'Epoch: {epoch+1:2} Loss: {loss.item():10.8f}')\n",
    "    \n",
    "print(f'\\nDuration: {time.time() - start_time:.0f} seconds')"
   ]
  },
  {
   "cell_type": "code",
   "execution_count": 52,
   "metadata": {},
   "outputs": [],
   "source": [
    "future = 12\n",
    "\n",
    "# Add the last window of training values to the list of predictions\n",
    "preds = train_norm[-wd_sz:].tolist()\n",
    "\n",
    "# Set the model to evaluation mode\n",
    "model.eval()\n",
    "\n",
    "for i in range(future):\n",
    "    seq = torch.FloatTensor(preds[-wd_sz:])\n",
    "    with torch.no_grad():\n",
    "        model.hidden = (torch.zeros(1,1,model.hidden_size),\n",
    "                        torch.zeros(1,1,model.hidden_size))\n",
    "        preds.append(model(seq).item())"
   ]
  },
  {
   "cell_type": "code",
   "execution_count": 56,
   "metadata": {},
   "outputs": [
    {
     "output_type": "execute_result",
     "data": {
      "text/plain": [
       "[-0.06874656677246094,\n",
       " -0.07428183406591415,\n",
       " -0.07734911143779755,\n",
       " -0.0790170282125473,\n",
       " -0.07993566989898682,\n",
       " -0.08044394850730896,\n",
       " -0.08071907609701157,\n",
       " -0.08087684214115143,\n",
       " -0.08096402138471603,\n",
       " -0.08101631700992584,\n",
       " -0.08104851841926575,\n",
       " -0.08106987178325653]"
      ]
     },
     "metadata": {},
     "execution_count": 56
    }
   ],
   "source": [
    "preds[wd_sz:]"
   ]
  },
  {
   "cell_type": "code",
   "execution_count": 66,
   "metadata": {},
   "outputs": [],
   "source": [
    "true_predictions = scaler.inverse_transform(np.array(preds[wd_sz:]).reshape(-1, 1))"
   ]
  },
  {
   "cell_type": "code",
   "execution_count": 67,
   "metadata": {},
   "outputs": [
    {
     "output_type": "execute_result",
     "data": {
      "text/plain": [
       "array([[8478.36695766],\n",
       "       [8445.98841163],\n",
       "       [8428.04637264],\n",
       "       [8418.28989347],\n",
       "       [8412.91629893],\n",
       "       [8409.94312321],\n",
       "       [8408.33376437],\n",
       "       [8407.4109119 ],\n",
       "       [8406.90095691],\n",
       "       [8406.59505365],\n",
       "       [8406.40669151],\n",
       "       [8406.281785  ]])"
      ]
     },
     "metadata": {},
     "execution_count": 67
    }
   ],
   "source": [
    "true_predictions"
   ]
  },
  {
   "cell_type": "code",
   "execution_count": 68,
   "metadata": {},
   "outputs": [
    {
     "output_type": "execute_result",
     "data": {
      "text/plain": [
       "DATE\n",
       "2018-02-01    10415\n",
       "2018-03-01    12683\n",
       "2018-04-01    11919\n",
       "2018-05-01    14138\n",
       "2018-06-01    14583\n",
       "2018-07-01    12640\n",
       "2018-08-01    14257\n",
       "2018-09-01    12396\n",
       "2018-10-01    13914\n",
       "2018-11-01    14174\n",
       "2018-12-01    15504\n",
       "2019-01-01    10718\n",
       "Name: S4248SM144NCEN, dtype: int64"
      ]
     },
     "metadata": {},
     "execution_count": 68
    }
   ],
   "source": [
    "df['S4248SM144NCEN'][-12:]"
   ]
  },
  {
   "cell_type": "code",
   "execution_count": null,
   "metadata": {},
   "outputs": [],
   "source": []
  }
 ]
}